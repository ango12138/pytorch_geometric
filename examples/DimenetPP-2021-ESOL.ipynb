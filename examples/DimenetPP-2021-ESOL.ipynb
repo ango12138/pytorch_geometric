{
 "cells": [
  {
   "cell_type": "markdown",
   "metadata": {},
   "source": [
    "## Load Libraries"
   ]
  },
  {
   "cell_type": "code",
   "execution_count": 1,
   "metadata": {},
   "outputs": [],
   "source": [
    "import pandas as pd\n",
    "import torch\n",
    "import torch.nn as nn\n",
    "from torch.nn import ReLU, Sequential as Seq, Linear, Parameter, BatchNorm1d, Dropout, ReLU, LeakyReLU, ModuleList,  Embedding\n",
    "from torch_geometric.nn import GINConv, global_mean_pool,global_max_pool\n",
    "from torch_geometric.nn.conv import MessagePassing\n",
    "import torch.nn.functional as F\n",
    "from torch.optim.optimizer import Optimizer, required\n",
    "import math\n",
    "import numpy as np\n",
    "from math import sqrt, pi as PI\n",
    "import pickle\n",
    "from torch_scatter import scatter\n",
    "from torch_sparse import SparseTensor\n",
    "from scipy.optimize import brentq\n",
    "from scipy import special as sp\n",
    "from math import *\n",
    "\n",
    "from rdkit import Chem\n",
    "from rdkit.Chem import AllChem\n",
    "import torch\n",
    "from rdkit.Chem import  MolFromSmiles\n",
    "from torch_geometric.data import Data\n",
    "import random\n",
    "import numpy as np \n",
    "import os\n",
    "\n",
    "from torch_geometric.data import DataLoader\n",
    "from tqdm import tqdm\n",
    "import time\n",
    "import signal\n",
    "from dimenet_utils import bessel_basis, real_sph_harm\n",
    "from sklearn.metrics import r2_score, mean_squared_error, mean_absolute_error\n"
   ]
  },
  {
   "cell_type": "code",
   "execution_count": 2,
   "metadata": {},
   "outputs": [],
   "source": [
    "def swish(x):\n",
    "    return x * x.sigmoid()\n",
    "\n",
    "def glorot_orthogonal(tensor, scale):\n",
    "    if tensor is not None:\n",
    "        torch.nn.init.orthogonal_(tensor.data)\n",
    "        scale /= ((tensor.size(-2) + tensor.size(-1)) * tensor.var())\n",
    "        tensor.data *= scale.sqrt()\n",
    "\n",
    "try:\n",
    "    import sympy as sym\n",
    "except ImportError:\n",
    "    sym = None\n",
    "\n",
    "def Jn(r, n):\n",
    "    # in utiles ok\n",
    "    return np.sqrt(np.pi / (2 * r)) * sp.jv(n + 0.5, r)\n",
    "\n",
    "def Jn_zeros(n, k):\n",
    "    # in utils ok\n",
    "    zerosj = np.zeros((n, k), dtype='float32')\n",
    "    zerosj[0] = np.arange(1, k + 1) * np.pi\n",
    "    points = np.arange(1, k + n) * np.pi\n",
    "    racines = np.zeros(k + n - 1, dtype='float32')\n",
    "    for i in range(1, n):\n",
    "        for j in range(k + n - 1 - i):\n",
    "            foo = brentq(Jn, points[j], points[j + 1], (i, ))\n",
    "            racines[j] = foo\n",
    "        points = racines\n",
    "        zerosj[i][:k] = racines[:k]\n",
    "    return zerosj\n",
    "\n",
    "def spherical_bessel_formulas(n):\n",
    "    # in utils ok\n",
    "    x = sym.symbols('x')\n",
    "    f = [sym.sin(x) / x]\n",
    "    a = sym.sin(x) / x\n",
    "    for i in range(1, n):\n",
    "        b = sym.diff(a, x) / x\n",
    "        f += [sym.simplify(b * (-x)**i)]\n",
    "        a = sym.simplify(b)\n",
    "    return f\n",
    "\n",
    "def bessel_basis(n, k):\n",
    "    # in utils ok\n",
    "    zeros = Jn_zeros(n, k)\n",
    "    normalizer = []\n",
    "    for order in range(n):\n",
    "        normalizer_tmp = []\n",
    "        for i in range(k):\n",
    "            normalizer_tmp += [0.5 * Jn(zeros[order, i], order + 1)**2]\n",
    "        normalizer_tmp = 1 / np.array(normalizer_tmp)**0.5\n",
    "        normalizer += [normalizer_tmp]\n",
    "\n",
    "    f = spherical_bessel_formulas(n)\n",
    "    x = sym.symbols('x')\n",
    "    bess_basis = []\n",
    "    for order in range(n):\n",
    "        bess_basis_tmp = []\n",
    "        for i in range(k):\n",
    "            bess_basis_tmp += [\n",
    "                sym.simplify(normalizer[order][i] *\n",
    "                             f[order].subs(x, zeros[order, i] * x))\n",
    "            ]\n",
    "        bess_basis += [bess_basis_tmp]\n",
    "    return bess_basis\n",
    "\n",
    "def sph_harm_prefactor(k, m):\n",
    "    #  in utils ok\n",
    "    return ((2 * k + 1) * np.math.factorial(k - abs(m)) /\n",
    "            (4 * np.pi * np.math.factorial(k + abs(m))))**0.5\n",
    "\n",
    "def associated_legendre_polynomials(k, zero_m_only=True):\n",
    "    z = sym.symbols('z')\n",
    "    P_l_m = [[0] * (j + 1) for j in range(k)]\n",
    "\n",
    "    P_l_m[0][0] = 1\n",
    "    if k > 0:\n",
    "        P_l_m[1][0] = z\n",
    "\n",
    "        for j in range(2, k):\n",
    "            P_l_m[j][0] = sym.simplify(((2 * j - 1) * z * P_l_m[j - 1][0] -\n",
    "                                        (j - 1) * P_l_m[j - 2][0]) / j)\n",
    "        if not zero_m_only:\n",
    "            for i in range(1, k):\n",
    "                P_l_m[i][i] = sym.simplify((1 - 2 * i) * P_l_m[i - 1][i - 1])\n",
    "                if i + 1 < k:\n",
    "                    P_l_m[i + 1][i] = sym.simplify(\n",
    "                        (2 * i + 1) * z * P_l_m[i][i])\n",
    "                for j in range(i + 2, k):\n",
    "                    P_l_m[j][i] = sym.simplify(\n",
    "                        ((2 * j - 1) * z * P_l_m[j - 1][i] -\n",
    "                         (i + j - 1) * P_l_m[j - 2][i]) / (j - i))\n",
    "\n",
    "    return P_l_m\n",
    "\n",
    "def real_sph_harm(k, zero_m_only=True, spherical_coordinates=True):\n",
    "    if not zero_m_only:\n",
    "        S_m = [0]\n",
    "        C_m = [1]\n",
    "        for i in range(1, k):\n",
    "            x = sym.symbols('x')\n",
    "            y = sym.symbols('y')\n",
    "            S_m += [x * S_m[i - 1] + y * C_m[i - 1]]\n",
    "            C_m += [x * C_m[i - 1] - y * S_m[i - 1]]\n",
    "\n",
    "    P_l_m = associated_legendre_polynomials(k, zero_m_only)\n",
    "    if spherical_coordinates:\n",
    "        theta = sym.symbols('theta')\n",
    "        z = sym.symbols('z')\n",
    "        for i in range(len(P_l_m)):\n",
    "            for j in range(len(P_l_m[i])):\n",
    "                if type(P_l_m[i][j]) != int:\n",
    "                    P_l_m[i][j] = P_l_m[i][j].subs(z, sym.cos(theta))\n",
    "        if not zero_m_only:\n",
    "            phi = sym.symbols('phi')\n",
    "            for i in range(len(S_m)):\n",
    "                S_m[i] = S_m[i].subs(x,\n",
    "                                     sym.sin(theta) * sym.cos(phi)).subs(\n",
    "                                         y,\n",
    "                                         sym.sin(theta) * sym.sin(phi))\n",
    "            for i in range(len(C_m)):\n",
    "                C_m[i] = C_m[i].subs(x,\n",
    "                                     sym.sin(theta) * sym.cos(phi)).subs(\n",
    "                                         y,\n",
    "                                         sym.sin(theta) * sym.sin(phi))\n",
    "\n",
    "    Y_func_l_m = [['0'] * (2 * j + 1) for j in range(k)]\n",
    "    for i in range(k):\n",
    "        Y_func_l_m[i][0] = sym.simplify(sph_harm_prefactor(i, 0) * P_l_m[i][0])\n",
    "\n",
    "    if not zero_m_only:\n",
    "        for i in range(1, k):\n",
    "            for j in range(1, i + 1):\n",
    "                Y_func_l_m[i][j] = sym.simplify(\n",
    "                    2**0.5 * sph_harm_prefactor(i, j) * C_m[j] * P_l_m[i][j])\n",
    "        for i in range(1, k):\n",
    "            for j in range(1, i + 1):\n",
    "                Y_func_l_m[i][-j] = sym.simplify(\n",
    "                    2**0.5 * sph_harm_prefactor(i, -j) * S_m[j] * P_l_m[i][j])\n",
    "\n",
    "    return Y_func_l_m\n",
    "\n",
    "class Envelope(torch.nn.Module):\n",
    "    # Dimenet code adding the last where conditioin like in TF!\n",
    "    def __init__(self, exponent):\n",
    "        super(Envelope, self).__init__()\n",
    "        # +2 instead of +1 to self.p fix partially the \"Envelope+BesselBasisLayer\" issue reported in Dimenet gitub page.\n",
    "        self.p = exponent + 2\n",
    "        self.a = -(self.p + 1) * (self.p + 2) / 2\n",
    "        self.b = self.p * (self.p + 2)\n",
    "        self.c = -self.p * (self.p + 1) / 2\n",
    "\n",
    "    def forward(self, x):\n",
    "        p, a, b, c = self.p, self.a, self.b, self.c\n",
    "        x_pow_p0 = x.pow(p - 1)\n",
    "        x_pow_p1 = x_pow_p0 * x\n",
    "        x_pow_p2 = x_pow_p1 * x\n",
    "        env_val =  1. / x + a * x_pow_p0 + b * x_pow_p1 + c * x_pow_p2\n",
    "        # adding the where condition here was not in the PyG code before!\n",
    "        return torch.where(x < 1, env_val, torch.zeros_like(x))\n",
    "\n",
    "class BesselBasisLayer(torch.nn.Module):\n",
    "    # same as PyG not added the fix yet\n",
    "    def __init__(self, num_radial, cutoff=5.0, envelope_exponent=5):\n",
    "        super(BesselBasisLayer, self).__init__()\n",
    "        self.cutoff = cutoff\n",
    "        self.envelope = Envelope(envelope_exponent)\n",
    "\n",
    "        self.freq = torch.nn.Parameter(torch.Tensor(num_radial))\n",
    "\n",
    "        self.reset_parameters()\n",
    "\n",
    "    def reset_parameters(self):\n",
    "        torch.arange(1, self.freq.numel() + 1, out=self.freq).mul_(PI)\n",
    "\n",
    "    def forward(self, dist):\n",
    "        dist = dist.unsqueeze(-1) / self.cutoff\n",
    "        # divide by dist fix partially the \"Envelope+BesselBasisLayer\" issue reported in Dimenet gitub page.\n",
    "        return (self.envelope(dist) / dist) * (self.freq * dist).sin()\n",
    "\n",
    "\n",
    "class SphericalBasisLayer(torch.nn.Module):\n",
    "    # dimenet code ok \n",
    "    def __init__(self, num_spherical, num_radial, cutoff=5.0,\n",
    "                 envelope_exponent=5):\n",
    "        super(SphericalBasisLayer, self).__init__()\n",
    "        assert num_radial <= 64\n",
    "        self.num_spherical = num_spherical\n",
    "        self.num_radial = num_radial\n",
    "        self.cutoff = cutoff\n",
    "        self.envelope = Envelope(envelope_exponent)\n",
    "        \n",
    "        bessel_forms = bessel_basis(num_spherical, num_radial)\n",
    "        sph_harm_forms = real_sph_harm(num_spherical)\n",
    "            \n",
    "        self.sph_funcs = []\n",
    "        self.bessel_funcs = []\n",
    "\n",
    "        x, theta = sym.symbols('x theta')\n",
    "        modules = {'sin': torch.sin, 'cos': torch.cos}\n",
    "        for i in range(num_spherical):\n",
    "            if i == 0:\n",
    "                sph1 = sym.lambdify([theta], sph_harm_forms[i][0], modules)(0)\n",
    "                self.sph_funcs.append(lambda x: torch.zeros_like(x) + sph1)\n",
    "\n",
    "            else:\n",
    "                sph = sym.lambdify([theta], sph_harm_forms[i][0], modules)\n",
    "                self.sph_funcs.append(sph)\n",
    "\n",
    "            for j in range(num_radial):\n",
    "                bessel = sym.lambdify([x], bessel_forms[i][j], modules)\n",
    "                self.bessel_funcs.append(bessel)\n",
    "\n",
    "    def forward(self, dist, angle, idx_kj):\n",
    "        dist = dist / self.cutoff\n",
    "        rbf = torch.stack([f(dist) for f in self.bessel_funcs], dim=1)\n",
    "        rbf = self.envelope(dist).unsqueeze(-1) * rbf\n",
    "\n",
    "        cbf = torch.stack([f(angle) for f in self.sph_funcs], dim=1)\n",
    "\n",
    "        n, k = self.num_spherical, self.num_radial\n",
    "\n",
    "        out = (rbf[idx_kj].view(-1, n, k) * cbf.view(-1, n, 1)).view(-1,   k * n)\n",
    "        return out\n",
    "\n",
    "    \n",
    "class EmbeddingBlock(torch.nn.Module):\n",
    "    def __init__(self, num_radial, hidden_channels, act=swish):\n",
    "        super(EmbeddingBlock, self).__init__()\n",
    "        self.act = act\n",
    "\n",
    "        self.emb = Embedding(95, hidden_channels)\n",
    "        self.lin_rbf = Linear(num_radial, hidden_channels)\n",
    "        self.lin = Linear(3 * hidden_channels, hidden_channels)\n",
    "\n",
    "        self.reset_parameters()\n",
    "\n",
    "    def reset_parameters(self):\n",
    "        self.emb.weight.data.uniform_(-sqrt(3), sqrt(3))\n",
    "        glorot_orthogonal(self.lin_rbf.weight, scale=2.)\n",
    "        glorot_orthogonal(self.lin.weight, scale=2.)\n",
    "        self.lin_rbf.bias.data.fill_(0)\n",
    "        self.lin.bias.data.fill_(0)\n",
    "\n",
    "    def forward(self, x, rbf, i, j):\n",
    "        # trick to use x format need to convert to long and squeeze the 2nd dim!\n",
    "        x = self.emb(x.long()).squeeze(1)\n",
    "        rbf = self.act(self.lin_rbf(rbf))\n",
    "        x = torch.cat([x[i], x[j], rbf], dim=-1)\n",
    "        return self.act(self.lin(x))    \n",
    "    \n",
    "    \n",
    "class ResidualLayer(torch.nn.Module):\n",
    "    # dimenent ok \n",
    "    def __init__(self, hidden_channels, act=swish):\n",
    "        super(ResidualLayer, self).__init__()\n",
    "        self.act = act\n",
    "        self.lin1 = Linear(hidden_channels, hidden_channels)\n",
    "        self.lin2 = Linear(hidden_channels, hidden_channels)\n",
    "\n",
    "        self.reset_parameters()\n",
    "\n",
    "    def reset_parameters(self):\n",
    "        glorot_orthogonal(self.lin1.weight, scale=2.0)\n",
    "        self.lin1.bias.data.fill_(0)\n",
    "        glorot_orthogonal(self.lin2.weight, scale=2.0)\n",
    "        self.lin2.bias.data.fill_(0)\n",
    "\n",
    "    def forward(self, x):\n",
    "        return x + self.act(self.lin2(self.act(self.lin1(x))))\n",
    "\n",
    "class InteractionBlockPP(torch.nn.Module):\n",
    "    def __init__(self, hidden_channels, int_emb_size, basis_emb_size, num_spherical,\n",
    "                 num_radial, num_before_skip, num_after_skip, act=swish):\n",
    "        super(InteractionBlockPP, self).__init__()\n",
    "        self.act = act\n",
    "        self.basis_emb_size = basis_emb_size\n",
    "        self.hidden_channels = hidden_channels\n",
    "        self.num_spherical = num_spherical\n",
    "        self.num_radial = num_radial\n",
    "        \n",
    "        # Transformations of Bessel and spherical basis representations\n",
    "        self.lin_rbf = Seq(Linear(num_radial, basis_emb_size, bias=False), Linear(basis_emb_size, hidden_channels, bias=False))\n",
    "        \n",
    "        self.lin_sbf = Seq(Linear(num_spherical * num_radial, basis_emb_size ,bias=False),Linear(basis_emb_size, int_emb_size,bias=False)) \n",
    "\n",
    "        # Dense transformations of input messages\n",
    "        self.lin_kj =  Linear(hidden_channels, hidden_channels)\n",
    "        self.lin_ji =  Linear(hidden_channels, hidden_channels)\n",
    "\n",
    "        # Embedding projections for interaction triplets\n",
    "        self.xdownproj =  Linear(hidden_channels, int_emb_size)\n",
    "        self.xupproj =  Linear(int_emb_size, hidden_channels)\n",
    "        \n",
    "        # Residual layers before skip connection\n",
    "        self.layers_before_skip = torch.nn.ModuleList([\n",
    "            ResidualLayer(hidden_channels, act) for _ in range(num_before_skip)\n",
    "        ])\n",
    "        # final before skip\n",
    "        self.lin = Linear(hidden_channels, hidden_channels)\n",
    "        \n",
    "        # Residual layers after skip connection\n",
    "        self.layers_after_skip = torch.nn.ModuleList([\n",
    "            ResidualLayer(hidden_channels, act) for _ in range(num_after_skip)\n",
    "        ])\n",
    "\n",
    "        self.reset_parameters()\n",
    "\n",
    "    def reset_parameters(self):\n",
    "        glorot_orthogonal(self.xdownproj.weight, scale=2.)\n",
    "        glorot_orthogonal(self.xupproj.weight, scale=2.)\n",
    "        glorot_orthogonal(self.lin_kj.weight, scale=2.)\n",
    "        self.lin_kj.bias.data.fill_(0)\n",
    "        glorot_orthogonal(self.lin_ji.weight, scale=2.)\n",
    "        self.lin_ji.bias.data.fill_(0)\n",
    "        #self.W.data.normal_(mean=0, std=2 / self.W.size(0))\n",
    "        for res_layer in self.layers_before_skip:\n",
    "            res_layer.reset_parameters()\n",
    "        glorot_orthogonal(self.lin.weight, scale=2.)\n",
    "        self.lin.bias.data.fill_(0)\n",
    "        for res_layer in self.layers_after_skip:\n",
    "            res_layer.reset_parameters()\n",
    "\n",
    "    def forward(self, x, rbf, sbf, idx_kj, idx_ji):\n",
    "\n",
    "        # Initial transformation\n",
    "        x_ji = self.act(self.lin_ji(x))\n",
    "        x_kj = self.act(self.lin_kj(x))\n",
    "        \n",
    "        # Transform via Bessel basis\n",
    "        rbf = self.lin_rbf(rbf)\n",
    "        x_kj = x_kj * rbf # hadamard product\n",
    "\n",
    "        # Down-project embeddings and generate interaction triplet embeddings\n",
    "        x_kj = self.act(self.xdownproj(x_kj)) # downproject to 32 as suggested, not sure if needed for scatter (instead they have tensorflow with gather)\n",
    "        x_kj = x_kj[idx_kj] # == gather()\n",
    "        \n",
    "        # Transform via 2D spherical basis\n",
    "        sbf = self.lin_sbf(sbf)\n",
    "        x_kj = x_kj * sbf # hadamard product\n",
    "\n",
    "        # aggregate interactions and up-project embeddings\n",
    "        x_kj = scatter(x_kj, idx_ji, dim=0, dim_size=x.size(0)) #  same as this one x = tf.math.unsorted_segment_sum(x, idnb_i, n_atoms)\n",
    "        x_kj = self.act(self.xupproj(x_kj))\n",
    "        \n",
    "        # transformations before skip connection            \n",
    "        x2 = x_ji + x_kj\n",
    "        for layer in self.layers_before_skip:\n",
    "            x2 = layer(x2)\n",
    "            \n",
    "        # skip connection\n",
    "        x = x+ self.act(self.lin(x2))\n",
    "        \n",
    "        # transformation after skip connection\n",
    "        for layer in self.layers_after_skip:\n",
    "            x = layer(x)\n",
    "\n",
    "        return x\n",
    "\n",
    "class OutputBlockPP(torch.nn.Module):\n",
    "    def __init__(self, num_radial, hidden_channels, out_emb_size, out_channels, num_layers,\n",
    "                 act=swish):\n",
    "        super(OutputBlockPP, self).__init__()\n",
    "        self.act = act\n",
    "\n",
    "        self.lin_rbf = Linear(num_radial, hidden_channels, bias=False)\n",
    "        self.xupproj = Linear(hidden_channels, out_emb_size, bias=False)\n",
    "\n",
    "        self.lins = torch.nn.ModuleList()\n",
    "        for _ in range(num_layers):\n",
    "            self.lins.append(Linear(out_emb_size, out_emb_size))\n",
    "        self.final_lin = Linear(out_emb_size, out_channels, bias=False)\n",
    "\n",
    "        self.reset_parameters()\n",
    "\n",
    "    def reset_parameters(self):\n",
    "        glorot_orthogonal(self.lin_rbf.weight, scale = 2.0)\n",
    "        for lin in self.lins:\n",
    "            glorot_orthogonal(lin.weight, scale = 2.0)\n",
    "            lin.bias.data.fill_(0)\n",
    "        self.final_lin.weight.data.fill_(0)\n",
    "\n",
    "    def forward(self, x, rbf, i, num_nodes=None):\n",
    "        x = self.lin_rbf(rbf) * x \n",
    "        \n",
    "        x = scatter(x, i, dim=0, dim_size=num_nodes) # x = tf.math.unsorted_segment_sum(x, idnb_i, n_atoms)\n",
    "        \n",
    "        x = self.xupproj(x)\n",
    "        # this imply that the lin have to change to\n",
    "        for lin in self.lins:\n",
    "            x = self.act(lin(x)) \n",
    "        # return final dense layer done\n",
    "        return self.final_lin(x)    \n",
    "    \n"
   ]
  },
  {
   "cell_type": "code",
   "execution_count": 3,
   "metadata": {},
   "outputs": [],
   "source": [
    "class DimeNetpp(torch.nn.Module):\n",
    "    r\"\"\"The directional message passing neural network (DimeNet2) from the\n",
    "    `\"Directional Message Passing for Molecular Graphs\"\n",
    "    <https://arxiv.org/abs/2003.03123>`_ paper.\n",
    "    DimeNet transforms messages based on the angle between them in a\n",
    "    rotation-equivariant fashion.\n",
    "    .. note::\n",
    "        For an example of using DimeNet, see `examples/qm9_dimenet.py\n",
    "        <https://github.com/rusty1s/pytorch_geometric/blob/master/examples/\n",
    "        qm9_dimenet.py>`_.\n",
    "    Args:\n",
    "        in_channels (int): Size of each input sample.\n",
    "        hidden_channels (int): Hidden embedding size.\n",
    "        out_channels (int): Size of each output sample.\n",
    "        num_blocks (int): Number of building blocks.\n",
    "        num_spherical (int): Number of spherical harmonics.\n",
    "        num_radial (int): Number of radial basis functions.\n",
    "        cutoff: (float, optional): Cutoff distance for interatomic\n",
    "            interactions. (default: :obj:`5.0`)\n",
    "        envelope_exponent (int, optional): Shape of the smooth cutoff.\n",
    "            (default: :obj:`5`)\n",
    "        num_before_skip: (int, optional): Number of residual layers in the\n",
    "            interaction blocks before the skip connection. (default: :obj:`1`)\n",
    "        num_after_skip: (int, optional): Number of residual layers in the\n",
    "            interaction blocks after the skip connection. (default: :obj:`2`)\n",
    "        num_output_layers: (int, optional): Number of linear layers for the\n",
    "            output blocks. (default: :obj:`3`)\n",
    "        act: (function, optional): The activation funtion.\n",
    "            (default: :obj:`swish`)\n",
    "    \"\"\"\n",
    "    # remove the in_channels in EmbeddingBlock also in the initialization\n",
    "    def __init__(self, hidden_channels, out_channels, num_blocks,\n",
    "                 basis_emb_size, num_spherical, num_radial, int_emb_size, out_emb_size, cutoff=5.0,\n",
    "                 envelope_exponent=5, num_before_skip=1, num_after_skip=2,\n",
    "                 num_output_layers=3, act=swish):\n",
    "        super(DimeNetpp, self).__init__()\n",
    "        \n",
    "\n",
    "        if sym is None:\n",
    "            raise ImportError('Package `sympy` could not be found.')\n",
    "\n",
    "        self.num_blocks = num_blocks\n",
    "\n",
    "        self.rbf = BesselBasisLayer(num_radial, cutoff, envelope_exponent)\n",
    "        \n",
    "        self.sbf = SphericalBasisLayer(num_spherical, num_radial, cutoff,\n",
    "                                       envelope_exponent)\n",
    "\n",
    "        # new version remove in_channels!\n",
    "        self.emb = EmbeddingBlock( num_radial, hidden_channels,\n",
    "                                  act)\n",
    "        \n",
    "        # output block\n",
    "        self.output_blocks = nn.ModuleList([\n",
    "            OutputBlockPP(num_radial, hidden_channels, out_emb_size, out_channels,\n",
    "                        num_output_layers, act) for _ in range(num_blocks + 1)\n",
    "        ])\n",
    "\n",
    "        # interaction block\n",
    "        self.interaction_blocks = nn.ModuleList([\n",
    "            InteractionBlockPP(hidden_channels,  int_emb_size, basis_emb_size, num_spherical,\n",
    "                             num_radial, num_before_skip, num_after_skip, act)\n",
    "            for _ in range(num_blocks)\n",
    "        ])\n",
    "\n",
    "        self.reset_parameters()\n",
    "\n",
    "    def reset_parameters(self):\n",
    "        self.rbf.reset_parameters()\n",
    "        self.emb.reset_parameters()\n",
    "        for out in self.output_blocks:\n",
    "            out.reset_parameters()\n",
    "        for interaction in self.interaction_blocks:\n",
    "            interaction.reset_parameters()\n",
    "\n",
    "    def triplets(self, edge_index, num_nodes):\n",
    "        # dimenet ok code\n",
    "        row, col = edge_index  # j->i\n",
    "\n",
    "        value = torch.arange(row.size(0), device=row.device)      \n",
    "        adj_t = SparseTensor(row=col, col=row, value=value,\n",
    "                             sparse_sizes=(num_nodes, num_nodes))\n",
    "            \n",
    "        adj_t_row = adj_t[row]\n",
    "        num_triplets = adj_t_row.set_value(None).sum(dim=1).to(torch.long)\n",
    "\n",
    "        # Node indices (k->j->i) for triplets.\n",
    "        idx_i = col.repeat_interleave(num_triplets)\n",
    "        idx_j = row.repeat_interleave(num_triplets)\n",
    "        idx_k = adj_t_row.storage.col()\n",
    "        mask = idx_i != idx_k  # Remove i == k triplets.\n",
    "        idx_i, idx_j, idx_k = idx_i[mask], idx_j[mask], idx_k[mask]\n",
    "\n",
    "        # Edge indices (k-j, j->i) for triplets.\n",
    "        idx_kj = adj_t_row.storage.value()[mask]\n",
    "        idx_ji = adj_t_row.storage.row()[mask]\n",
    "\n",
    "        return idx_i, idx_j, idx_k, idx_kj, idx_ji\n",
    "\n",
    "    def forward(self, data):\n",
    "        \"\"\"\"\"\"\n",
    "        x, pos, edge_index, batch = data.x, data.pos, data.edge_index, data.batch\n",
    "        j, i = edge_index\n",
    "        idx_i, idx_j, idx_k, idx_kj, idx_ji = self.triplets(\n",
    "            edge_index, num_nodes=x.size(0))\n",
    "\n",
    "        # Calculate distances.\n",
    "        dist = (pos[i] - pos[j]).pow(2).sum(dim=-1).sqrt()\n",
    "\n",
    "        # Calculate angles rigde \"values\" \n",
    "        # there is a bug in the original code reported but not commited! \n",
    "        # (thanks to Klicpera Johannes to provide solution)\n",
    "        pos_i = pos[idx_i]\n",
    "        pos_j = pos[idx_j]\n",
    "        pos_ji = pos_j - pos_i\n",
    "        pos_kj = pos[idx_k] - pos_j # before ki, \n",
    "        a = (pos_ji * pos_kj).sum(dim=-1)\n",
    "        b = torch.cross(pos_ji, pos_kj).norm(dim=-1)\n",
    "        angle = torch.atan2(b, a)\n",
    "\n",
    "        rbf = self.rbf(dist)\n",
    "        sbf = self.sbf(dist, angle, idx_ji) # this idx_kj wrong must be change by idx_ji \n",
    "        # (thanks to Klicpera Johannes to provide solution)\n",
    "        # Embedding block.\n",
    "        x = self.emb(x, rbf, i, j)\n",
    "        P = self.output_blocks[0](x, rbf, i, num_nodes=pos.size(0))\n",
    "        \n",
    "        # Interaction blocks.\n",
    "        for interaction_block, output_block in zip(self.interaction_blocks,\n",
    "                                                   self.output_blocks[1:]):\n",
    "            x = interaction_block(x, rbf, sbf, idx_kj, idx_ji)\n",
    "            P += output_block(x, rbf, i)\n",
    "            \n",
    "        return P.sum(dim=0) if batch is None else scatter(P, batch, dim=0)\n"
   ]
  },
  {
   "cell_type": "code",
   "execution_count": 4,
   "metadata": {},
   "outputs": [],
   "source": [
    "class GenDimenetFeatures(object):\n",
    "    def __init__(self, cutoff = 5.0):\n",
    "        self.cutoff = cutoff\n",
    "        super(GenDimenetFeatures, self).__init__()\n",
    "        \n",
    "    def __call__(self, data):\n",
    "        # important remove the edge_attr not the same size as the cutoff edge of course!\n",
    "        data.edge_attr = None \n",
    "\n",
    "        mol = MolFromSmiles(data.smiles)\n",
    "        \n",
    "        m2=Chem.AddHs(mol)\n",
    "        AllChem.EmbedMolecule(m2, useRandomCoords=True)\n",
    "        AllChem.MMFFOptimizeMolecule(m2)\n",
    "\n",
    "        atomic_number = []\n",
    "\n",
    "        # compute the coordinates\n",
    "        for c in m2.GetConformers():\n",
    "            atom_position = c.GetPositions()\n",
    "\n",
    "        # compute the atomic number\n",
    "        for atom in m2.GetAtoms():\n",
    "            atomic_number.append(atom.GetAtomicNum())\n",
    "\n",
    "        data.x=torch.tensor(np.array(atomic_number), dtype=torch.float).view(-1).unsqueeze(-1)\n",
    "\n",
    "        data.pos=torch.tensor(atom_position, dtype=torch.float)\n",
    "        \n",
    "        # create a new edge index based on cutoff distance\n",
    "        dist = (data.pos.view(-1, 1, 3) - data.pos.view(1, -1, 3)).norm(dim=-1)\n",
    "        dist.fill_diagonal_(float('inf'))\n",
    "        mask = dist <= self.cutoff\n",
    "        data.edge_index = mask.nonzero().t()\n",
    "\n",
    "        return data"
   ]
  },
  {
   "cell_type": "markdown",
   "metadata": {},
   "source": [
    "## Load ESOL"
   ]
  },
  {
   "cell_type": "code",
   "execution_count": 5,
   "metadata": {},
   "outputs": [],
   "source": [
    "torch.manual_seed(41)\n",
    "path = '../Dimenetdata3/'\n",
    "from torch_geometric.datasets import MoleculeNet\n",
    "\n",
    "dataset = MoleculeNet(path, name='ESOL', pre_transform=GenDimenetFeatures(cutoff = 5.0)).shuffle()"
   ]
  },
  {
   "cell_type": "code",
   "execution_count": 6,
   "metadata": {},
   "outputs": [
    {
     "name": "stdout",
     "output_type": "stream",
     "text": [
      "ESOL(1128)\n",
      "['x', 'edge_index', 'y', 'pos', 'smiles']\n",
      "Data(edge_index=[2, 382], pos=[24, 3], smiles=\"Cc1ccc2cc(C)ccc2c1\", x=[24, 1], y=[1, 1])\n"
     ]
    }
   ],
   "source": [
    "print(dataset)\n",
    "for data in dataset:\n",
    "    print(data.keys)\n",
    "    print(data)\n",
    "    break"
   ]
  },
  {
   "cell_type": "code",
   "execution_count": 7,
   "metadata": {},
   "outputs": [],
   "source": [
    "N = len(dataset) // 10\n",
    "val_dataset = dataset[:N]\n",
    "test_dataset = dataset[N:2 * N]\n",
    "train_dataset = dataset[2 * N:]\n",
    "\n",
    "train_loader = DataLoader(train_dataset, batch_size=64, shuffle=True)\n",
    "val_loader = DataLoader(val_dataset, batch_size=64, shuffle=False )\n",
    "test_loader = DataLoader(test_dataset, batch_size=64, shuffle=False)"
   ]
  },
  {
   "cell_type": "code",
   "execution_count": 8,
   "metadata": {},
   "outputs": [],
   "source": [
    "model = DimeNetpp(hidden_channels=128,\n",
    "                out_channels=1,\n",
    "                num_blocks=5,\n",
    "                basis_emb_size = 8,\n",
    "                num_spherical=7,\n",
    "                num_radial=6,\n",
    "                int_emb_size=64,\n",
    "                out_emb_size=256,\n",
    "                cutoff=5.0).to(torch.device('cuda:0'))\n",
    "# cutoff 5.0 normally "
   ]
  },
  {
   "cell_type": "code",
   "execution_count": 9,
   "metadata": {},
   "outputs": [],
   "source": [
    "optimizer = torch.optim.Adam(model.parameters(), lr=0.001, weight_decay=0)\n",
    "\n",
    "scheduler = torch.optim.lr_scheduler.CosineAnnealingLR(optimizer, T_max=300)"
   ]
  },
  {
   "cell_type": "code",
   "execution_count": 10,
   "metadata": {},
   "outputs": [],
   "source": [
    "class RMSELoss(nn.Module):\n",
    "    def __init__(self, eps=1e-6):\n",
    "        super().__init__()\n",
    "        self.mse = nn.MSELoss()\n",
    "        self.eps = eps\n",
    "        \n",
    "    def forward(self,yhat,y):\n",
    "        loss = torch.sqrt(self.mse(yhat,y) + self.eps)\n",
    "        return loss\n",
    "\n",
    "rmse = RMSELoss()\n",
    "\n",
    "def train(loader):\n",
    "    model.train()\n",
    "    loss_all = 0\n",
    "    t = 0\n",
    "    for l,data in tqdm(enumerate(loader)):\n",
    "        t+=1\n",
    "        data = data.to(torch.device('cuda:0'))\n",
    "        optimizer.zero_grad()\n",
    "        preds = model.forward(data)\n",
    "        # compute loss\n",
    "        loss  = ( preds - data.y ).abs()\n",
    "        loss_all += loss.detach().sum().item()\n",
    "        loss.mean().backward()# MAD loss \n",
    "        optimizer.step()\n",
    "        \n",
    "    return loss_all / len(train_loader.dataset)\n",
    "\n",
    "### add no grad option here\n",
    "@torch.no_grad()\n",
    "def test(loader):\n",
    "    model.eval()\n",
    "    error = 0\n",
    "    for l,data in tqdm(enumerate(loader)):\n",
    "        data = data.to(torch.device('cuda:0'))\n",
    "        preds = model.forward(data)\n",
    "        error += (preds - data.y).abs().sum().item()  # sum AE => SAE\n",
    "    return error / len(loader.dataset) # MAE (ie mean of the SAE)\n",
    "\n",
    "@torch.no_grad()\n",
    "def apply(loader):\n",
    "    model.eval()\n",
    "    error = 0\n",
    "    y_pred = np.array([])\n",
    "    y_true = np.array([])\n",
    "    for data in tqdm(loader):\n",
    "        data = data.to(torch.device('cuda:0'))\n",
    "        preds = model.forward(data)\n",
    "        y_pred = np.append(y_pred, preds.cpu().numpy())\n",
    "        y_true = np.append(y_true, data.y.cpu().numpy())\n",
    "    return y_pred, y_true"
   ]
  },
  {
   "cell_type": "code",
   "execution_count": 11,
   "metadata": {},
   "outputs": [
    {
     "name": "stderr",
     "output_type": "stream",
     "text": [
      "15it [00:03,  4.05it/s]\n",
      "2it [00:00, 11.51it/s]\n",
      "2it [00:00, 12.57it/s]\n",
      "1it [00:00,  8.10it/s]"
     ]
    },
    {
     "name": "stdout",
     "output_type": "stream",
     "text": [
      "Ep: 001, LR: 0.001000, Los: 1456.7701175, Val MAE: 1.3536, Test MAE: 1.5513, Time: 4.05\n"
     ]
    },
    {
     "name": "stderr",
     "output_type": "stream",
     "text": [
      "15it [00:03,  4.48it/s]\n",
      "2it [00:00, 11.48it/s]\n",
      "2it [00:00, 12.36it/s]\n",
      "0it [00:00, ?it/s]"
     ]
    },
    {
     "name": "stdout",
     "output_type": "stream",
     "text": [
      "Ep: 002, LR: 0.001000, Los: 1.3931791, Val MAE: 0.8902, Test MAE: 0.9290, Time: 3.69\n"
     ]
    },
    {
     "name": "stderr",
     "output_type": "stream",
     "text": [
      "15it [00:03,  4.50it/s]\n",
      "2it [00:00, 12.16it/s]\n",
      "2it [00:00, 12.94it/s]\n",
      "0it [00:00, ?it/s]"
     ]
    },
    {
     "name": "stdout",
     "output_type": "stream",
     "text": [
      "Ep: 003, LR: 0.001000, Los: 0.8805381, Val MAE: 0.9068, Test MAE: 0.8116, Time: 3.66\n"
     ]
    },
    {
     "name": "stderr",
     "output_type": "stream",
     "text": [
      "15it [00:03,  4.44it/s]\n",
      "2it [00:00, 12.63it/s]\n",
      "2it [00:00, 12.74it/s]\n",
      "0it [00:00, ?it/s]"
     ]
    },
    {
     "name": "stdout",
     "output_type": "stream",
     "text": [
      "Ep: 004, LR: 0.001000, Los: 0.8015730, Val MAE: 0.7895, Test MAE: 0.7789, Time: 3.71\n"
     ]
    },
    {
     "name": "stderr",
     "output_type": "stream",
     "text": [
      "15it [00:03,  4.46it/s]\n",
      "2it [00:00, 12.40it/s]\n",
      "2it [00:00, 13.11it/s]\n",
      "0it [00:00, ?it/s]"
     ]
    },
    {
     "name": "stdout",
     "output_type": "stream",
     "text": [
      "Ep: 005, LR: 0.001000, Los: 0.7703812, Val MAE: 0.7096, Test MAE: 0.6830, Time: 3.69\n"
     ]
    },
    {
     "name": "stderr",
     "output_type": "stream",
     "text": [
      "15it [00:03,  4.49it/s]\n",
      "2it [00:00, 12.24it/s]\n",
      "2it [00:00, 13.07it/s]\n",
      "0it [00:00, ?it/s]"
     ]
    },
    {
     "name": "stdout",
     "output_type": "stream",
     "text": [
      "Ep: 006, LR: 0.000999, Los: 0.6843978, Val MAE: 0.7748, Test MAE: 0.7709, Time: 3.66\n"
     ]
    },
    {
     "name": "stderr",
     "output_type": "stream",
     "text": [
      "15it [00:03,  4.47it/s]\n",
      "2it [00:00, 12.44it/s]\n",
      "2it [00:00, 12.61it/s]\n",
      "0it [00:00, ?it/s]"
     ]
    },
    {
     "name": "stdout",
     "output_type": "stream",
     "text": [
      "Ep: 007, LR: 0.000999, Los: 0.7334646, Val MAE: 0.6771, Test MAE: 0.7029, Time: 3.69\n"
     ]
    },
    {
     "name": "stderr",
     "output_type": "stream",
     "text": [
      "15it [00:03,  4.59it/s]\n",
      "2it [00:00, 12.62it/s]\n",
      "2it [00:00, 12.68it/s]\n",
      "0it [00:00, ?it/s]"
     ]
    },
    {
     "name": "stdout",
     "output_type": "stream",
     "text": [
      "Ep: 008, LR: 0.000999, Los: 0.6628521, Val MAE: 0.8662, Test MAE: 0.7634, Time: 3.59\n"
     ]
    },
    {
     "name": "stderr",
     "output_type": "stream",
     "text": [
      "15it [00:03,  4.42it/s]\n",
      "2it [00:00, 12.01it/s]\n",
      "2it [00:00, 12.53it/s]\n",
      "0it [00:00, ?it/s]"
     ]
    },
    {
     "name": "stdout",
     "output_type": "stream",
     "text": [
      "Ep: 009, LR: 0.000998, Los: 0.6710599, Val MAE: 0.8798, Test MAE: 0.8199, Time: 3.73\n"
     ]
    },
    {
     "name": "stderr",
     "output_type": "stream",
     "text": [
      "15it [00:03,  4.38it/s]\n",
      "2it [00:00, 12.23it/s]\n",
      "2it [00:00, 13.03it/s]\n",
      "0it [00:00, ?it/s]"
     ]
    },
    {
     "name": "stdout",
     "output_type": "stream",
     "text": [
      "Ep: 010, LR: 0.000998, Los: 0.7519651, Val MAE: 0.7122, Test MAE: 0.7798, Time: 3.75\n"
     ]
    },
    {
     "name": "stderr",
     "output_type": "stream",
     "text": [
      "15it [00:03,  4.38it/s]\n",
      "2it [00:00, 11.62it/s]\n",
      "2it [00:00, 11.82it/s]\n",
      "1it [00:00,  5.05it/s]"
     ]
    },
    {
     "name": "stdout",
     "output_type": "stream",
     "text": [
      "Ep: 011, LR: 0.000997, Los: 0.6684397, Val MAE: 0.7541, Test MAE: 0.7582, Time: 3.78\n"
     ]
    },
    {
     "name": "stderr",
     "output_type": "stream",
     "text": [
      "15it [00:03,  4.50it/s]\n",
      "2it [00:00, 12.21it/s]\n",
      "2it [00:00, 12.34it/s]\n",
      "0it [00:00, ?it/s]"
     ]
    },
    {
     "name": "stdout",
     "output_type": "stream",
     "text": [
      "Ep: 012, LR: 0.000997, Los: 0.6679898, Val MAE: 0.7951, Test MAE: 0.8319, Time: 3.67\n"
     ]
    },
    {
     "name": "stderr",
     "output_type": "stream",
     "text": [
      "15it [00:03,  4.50it/s]\n",
      "2it [00:00, 11.52it/s]\n",
      "2it [00:00, 12.97it/s]\n",
      "0it [00:00, ?it/s]"
     ]
    },
    {
     "name": "stdout",
     "output_type": "stream",
     "text": [
      "Ep: 013, LR: 0.000996, Los: 0.6061766, Val MAE: 0.6662, Test MAE: 0.6112, Time: 3.67\n"
     ]
    },
    {
     "name": "stderr",
     "output_type": "stream",
     "text": [
      "15it [00:03,  4.54it/s]\n",
      "2it [00:00, 11.89it/s]\n",
      "2it [00:00, 13.04it/s]\n",
      "0it [00:00, ?it/s]"
     ]
    },
    {
     "name": "stdout",
     "output_type": "stream",
     "text": [
      "Ep: 014, LR: 0.000995, Los: 0.5983881, Val MAE: 0.6086, Test MAE: 0.6131, Time: 3.64\n"
     ]
    },
    {
     "name": "stderr",
     "output_type": "stream",
     "text": [
      "15it [00:03,  4.37it/s]\n",
      "2it [00:00, 11.43it/s]\n",
      "2it [00:00, 13.05it/s]\n",
      "0it [00:00, ?it/s]"
     ]
    },
    {
     "name": "stdout",
     "output_type": "stream",
     "text": [
      "Ep: 015, LR: 0.000995, Los: 0.5717445, Val MAE: 0.7109, Test MAE: 0.6737, Time: 3.77\n"
     ]
    },
    {
     "name": "stderr",
     "output_type": "stream",
     "text": [
      "15it [00:03,  4.44it/s]\n",
      "2it [00:00, 11.34it/s]\n",
      "2it [00:00, 12.94it/s]\n",
      "0it [00:00, ?it/s]"
     ]
    },
    {
     "name": "stdout",
     "output_type": "stream",
     "text": [
      "Ep: 016, LR: 0.000994, Los: 0.6097495, Val MAE: 0.6936, Test MAE: 0.6199, Time: 3.72\n"
     ]
    },
    {
     "name": "stderr",
     "output_type": "stream",
     "text": [
      "15it [00:03,  4.39it/s]\n",
      "2it [00:00, 12.37it/s]\n",
      "2it [00:00, 13.41it/s]\n",
      "0it [00:00, ?it/s]"
     ]
    },
    {
     "name": "stdout",
     "output_type": "stream",
     "text": [
      "Ep: 017, LR: 0.000993, Los: 0.5925091, Val MAE: 0.6612, Test MAE: 0.6653, Time: 3.75\n"
     ]
    },
    {
     "name": "stderr",
     "output_type": "stream",
     "text": [
      "15it [00:03,  4.47it/s]\n",
      "2it [00:00, 12.14it/s]\n",
      "2it [00:00, 12.98it/s]\n",
      "0it [00:00, ?it/s]"
     ]
    },
    {
     "name": "stdout",
     "output_type": "stream",
     "text": [
      "Ep: 018, LR: 0.000992, Los: 0.5688523, Val MAE: 0.7505, Test MAE: 0.7217, Time: 3.69\n"
     ]
    },
    {
     "name": "stderr",
     "output_type": "stream",
     "text": [
      "15it [00:03,  4.50it/s]\n",
      "2it [00:00, 11.90it/s]\n",
      "2it [00:00, 12.84it/s]\n",
      "0it [00:00, ?it/s]"
     ]
    },
    {
     "name": "stdout",
     "output_type": "stream",
     "text": [
      "Ep: 019, LR: 0.000991, Los: 0.6233198, Val MAE: 0.6326, Test MAE: 0.6016, Time: 3.66\n"
     ]
    },
    {
     "name": "stderr",
     "output_type": "stream",
     "text": [
      "15it [00:03,  4.42it/s]\n",
      "2it [00:00, 12.70it/s]\n",
      "2it [00:00, 13.12it/s]\n",
      "0it [00:00, ?it/s]"
     ]
    },
    {
     "name": "stdout",
     "output_type": "stream",
     "text": [
      "Ep: 020, LR: 0.000990, Los: 0.5527209, Val MAE: 0.6775, Test MAE: 0.6395, Time: 3.71\n"
     ]
    },
    {
     "name": "stderr",
     "output_type": "stream",
     "text": [
      "15it [00:03,  4.55it/s]\n",
      "2it [00:00, 12.70it/s]\n",
      "2it [00:00, 12.76it/s]\n",
      "0it [00:00, ?it/s]"
     ]
    },
    {
     "name": "stdout",
     "output_type": "stream",
     "text": [
      "Ep: 021, LR: 0.000989, Los: 0.5283645, Val MAE: 0.6073, Test MAE: 0.5741, Time: 3.62\n"
     ]
    },
    {
     "name": "stderr",
     "output_type": "stream",
     "text": [
      "15it [00:03,  4.52it/s]\n",
      "2it [00:00, 11.86it/s]\n",
      "2it [00:00, 12.93it/s]\n",
      "0it [00:00, ?it/s]"
     ]
    },
    {
     "name": "stdout",
     "output_type": "stream",
     "text": [
      "Ep: 022, LR: 0.000988, Los: 0.5343728, Val MAE: 0.6702, Test MAE: 0.6384, Time: 3.65\n"
     ]
    },
    {
     "name": "stderr",
     "output_type": "stream",
     "text": [
      "15it [00:03,  4.49it/s]\n",
      "2it [00:00, 11.88it/s]\n",
      "2it [00:00, 11.90it/s]\n",
      "0it [00:00, ?it/s]"
     ]
    },
    {
     "name": "stdout",
     "output_type": "stream",
     "text": [
      "Ep: 023, LR: 0.000987, Los: 0.5776143, Val MAE: 0.7387, Test MAE: 0.7551, Time: 3.69\n"
     ]
    },
    {
     "name": "stderr",
     "output_type": "stream",
     "text": [
      "15it [00:03,  4.44it/s]\n",
      "2it [00:00, 12.73it/s]\n",
      "2it [00:00, 12.32it/s]\n",
      "0it [00:00, ?it/s]"
     ]
    },
    {
     "name": "stdout",
     "output_type": "stream",
     "text": [
      "Ep: 024, LR: 0.000986, Los: 0.6488891, Val MAE: 0.6459, Test MAE: 0.5774, Time: 3.71\n"
     ]
    },
    {
     "name": "stderr",
     "output_type": "stream",
     "text": [
      "15it [00:03,  4.42it/s]\n",
      "2it [00:00, 12.55it/s]\n",
      "2it [00:00, 13.28it/s]\n",
      "0it [00:00, ?it/s]"
     ]
    },
    {
     "name": "stdout",
     "output_type": "stream",
     "text": [
      "Ep: 025, LR: 0.000984, Los: 0.5732912, Val MAE: 0.7234, Test MAE: 0.6431, Time: 3.72\n"
     ]
    },
    {
     "name": "stderr",
     "output_type": "stream",
     "text": [
      "15it [00:03,  4.45it/s]\n",
      "2it [00:00, 12.21it/s]\n",
      "2it [00:00, 12.49it/s]\n",
      "0it [00:00, ?it/s]"
     ]
    },
    {
     "name": "stdout",
     "output_type": "stream",
     "text": [
      "Ep: 026, LR: 0.000983, Los: 0.5787849, Val MAE: 0.6909, Test MAE: 0.6387, Time: 3.71\n"
     ]
    },
    {
     "name": "stderr",
     "output_type": "stream",
     "text": [
      "15it [00:03,  4.57it/s]\n",
      "2it [00:00, 12.61it/s]\n",
      "2it [00:00, 13.06it/s]\n",
      "0it [00:00, ?it/s]"
     ]
    },
    {
     "name": "stdout",
     "output_type": "stream",
     "text": [
      "Ep: 027, LR: 0.000982, Los: 0.5876083, Val MAE: 0.6082, Test MAE: 0.5410, Time: 3.60\n"
     ]
    },
    {
     "name": "stderr",
     "output_type": "stream",
     "text": [
      "15it [00:03,  4.43it/s]\n",
      "2it [00:00, 12.66it/s]\n",
      "2it [00:00, 12.79it/s]\n",
      "0it [00:00, ?it/s]"
     ]
    },
    {
     "name": "stdout",
     "output_type": "stream",
     "text": [
      "Ep: 028, LR: 0.000980, Los: 0.5234396, Val MAE: 0.6426, Test MAE: 0.5162, Time: 3.71\n"
     ]
    },
    {
     "name": "stderr",
     "output_type": "stream",
     "text": [
      "15it [00:03,  4.51it/s]\n",
      "2it [00:00, 11.95it/s]\n",
      "2it [00:00, 13.19it/s]\n",
      "0it [00:00, ?it/s]"
     ]
    },
    {
     "name": "stdout",
     "output_type": "stream",
     "text": [
      "Ep: 029, LR: 0.000979, Los: 0.5144872, Val MAE: 0.5866, Test MAE: 0.5782, Time: 3.66\n"
     ]
    },
    {
     "name": "stderr",
     "output_type": "stream",
     "text": [
      "15it [00:03,  4.46it/s]\n",
      "2it [00:00, 12.07it/s]\n",
      "2it [00:00, 12.85it/s]\n",
      "0it [00:00, ?it/s]"
     ]
    },
    {
     "name": "stdout",
     "output_type": "stream",
     "text": [
      "Ep: 030, LR: 0.000977, Los: 0.4946272, Val MAE: 0.7007, Test MAE: 0.6437, Time: 3.70\n"
     ]
    },
    {
     "name": "stderr",
     "output_type": "stream",
     "text": [
      "15it [00:03,  4.51it/s]\n",
      "2it [00:00, 11.71it/s]\n",
      "2it [00:00, 12.60it/s]\n",
      "0it [00:00, ?it/s]"
     ]
    },
    {
     "name": "stdout",
     "output_type": "stream",
     "text": [
      "Ep: 031, LR: 0.000976, Los: 0.5584705, Val MAE: 0.6165, Test MAE: 0.5560, Time: 3.67\n"
     ]
    },
    {
     "name": "stderr",
     "output_type": "stream",
     "text": [
      "15it [00:03,  4.38it/s]\n",
      "2it [00:00, 12.26it/s]\n",
      "2it [00:00, 13.01it/s]\n",
      "0it [00:00, ?it/s]"
     ]
    },
    {
     "name": "stdout",
     "output_type": "stream",
     "text": [
      "Ep: 032, LR: 0.000974, Los: 0.4702355, Val MAE: 0.5891, Test MAE: 0.5344, Time: 3.75\n"
     ]
    },
    {
     "name": "stderr",
     "output_type": "stream",
     "text": [
      "15it [00:03,  4.52it/s]\n",
      "2it [00:00, 12.67it/s]\n",
      "2it [00:00, 13.19it/s]\n",
      "0it [00:00, ?it/s]"
     ]
    },
    {
     "name": "stdout",
     "output_type": "stream",
     "text": [
      "Ep: 033, LR: 0.000972, Los: 0.4580977, Val MAE: 0.6858, Test MAE: 0.5381, Time: 3.64\n"
     ]
    },
    {
     "name": "stderr",
     "output_type": "stream",
     "text": [
      "15it [00:03,  4.46it/s]\n",
      "2it [00:00, 12.43it/s]\n",
      "2it [00:00, 12.42it/s]\n",
      "0it [00:00, ?it/s]"
     ]
    },
    {
     "name": "stdout",
     "output_type": "stream",
     "text": [
      "Ep: 034, LR: 0.000970, Los: 0.5049063, Val MAE: 0.6508, Test MAE: 0.5790, Time: 3.70\n"
     ]
    },
    {
     "name": "stderr",
     "output_type": "stream",
     "text": [
      "15it [00:03,  4.56it/s]\n",
      "2it [00:00, 12.50it/s]\n",
      "2it [00:00, 13.70it/s]\n",
      "0it [00:00, ?it/s]"
     ]
    },
    {
     "name": "stdout",
     "output_type": "stream",
     "text": [
      "Ep: 035, LR: 0.000969, Los: 0.4745373, Val MAE: 0.6046, Test MAE: 0.5409, Time: 3.60\n"
     ]
    },
    {
     "name": "stderr",
     "output_type": "stream",
     "text": [
      "15it [00:03,  4.54it/s]\n",
      "2it [00:00, 11.64it/s]\n",
      "2it [00:00, 12.23it/s]\n",
      "0it [00:00, ?it/s]"
     ]
    },
    {
     "name": "stdout",
     "output_type": "stream",
     "text": [
      "Ep: 036, LR: 0.000967, Los: 0.4578982, Val MAE: 0.6031, Test MAE: 0.5318, Time: 3.65\n"
     ]
    },
    {
     "name": "stderr",
     "output_type": "stream",
     "text": [
      "15it [00:03,  4.50it/s]\n",
      "2it [00:00, 12.64it/s]\n",
      "2it [00:00, 12.96it/s]\n",
      "0it [00:00, ?it/s]"
     ]
    },
    {
     "name": "stdout",
     "output_type": "stream",
     "text": [
      "Ep: 037, LR: 0.000965, Los: 0.4740229, Val MAE: 0.6029, Test MAE: 0.5795, Time: 3.66\n"
     ]
    },
    {
     "name": "stderr",
     "output_type": "stream",
     "text": [
      "15it [00:03,  4.54it/s]\n",
      "2it [00:00, 12.46it/s]\n",
      "2it [00:00, 13.63it/s]\n",
      "0it [00:00, ?it/s]"
     ]
    },
    {
     "name": "stdout",
     "output_type": "stream",
     "text": [
      "Ep: 038, LR: 0.000963, Los: 0.5390376, Val MAE: 0.6111, Test MAE: 0.5778, Time: 3.62\n"
     ]
    },
    {
     "name": "stderr",
     "output_type": "stream",
     "text": [
      "15it [00:03,  4.46it/s]\n",
      "2it [00:00, 12.15it/s]\n",
      "2it [00:00, 13.18it/s]\n",
      "0it [00:00, ?it/s]"
     ]
    },
    {
     "name": "stdout",
     "output_type": "stream",
     "text": [
      "Ep: 039, LR: 0.000961, Los: 0.4643209, Val MAE: 0.6345, Test MAE: 0.5436, Time: 3.69\n"
     ]
    },
    {
     "name": "stderr",
     "output_type": "stream",
     "text": [
      "15it [00:03,  4.53it/s]\n",
      "2it [00:00, 12.41it/s]\n",
      "2it [00:00, 13.00it/s]\n",
      "0it [00:00, ?it/s]"
     ]
    },
    {
     "name": "stdout",
     "output_type": "stream",
     "text": [
      "Ep: 040, LR: 0.000959, Los: 0.4933325, Val MAE: 0.6645, Test MAE: 0.5615, Time: 3.63\n"
     ]
    },
    {
     "name": "stderr",
     "output_type": "stream",
     "text": [
      "15it [00:03,  4.47it/s]\n",
      "2it [00:00, 12.69it/s]\n",
      "2it [00:00, 13.42it/s]\n",
      "0it [00:00, ?it/s]"
     ]
    },
    {
     "name": "stdout",
     "output_type": "stream",
     "text": [
      "Ep: 041, LR: 0.000957, Los: 0.4343598, Val MAE: 0.5659, Test MAE: 0.5144, Time: 3.67\n"
     ]
    },
    {
     "name": "stderr",
     "output_type": "stream",
     "text": [
      "15it [00:03,  4.41it/s]\n",
      "2it [00:00, 11.99it/s]\n",
      "2it [00:00, 12.31it/s]\n",
      "0it [00:00, ?it/s]"
     ]
    },
    {
     "name": "stdout",
     "output_type": "stream",
     "text": [
      "Ep: 042, LR: 0.000955, Los: 0.4177923, Val MAE: 0.5805, Test MAE: 0.5236, Time: 3.75\n"
     ]
    },
    {
     "name": "stderr",
     "output_type": "stream",
     "text": [
      "15it [00:03,  4.49it/s]\n",
      "2it [00:00, 12.07it/s]\n",
      "2it [00:00, 12.73it/s]\n",
      "0it [00:00, ?it/s]"
     ]
    },
    {
     "name": "stdout",
     "output_type": "stream",
     "text": [
      "Ep: 043, LR: 0.000952, Los: 0.4274054, Val MAE: 0.6078, Test MAE: 0.5173, Time: 3.68\n"
     ]
    },
    {
     "name": "stderr",
     "output_type": "stream",
     "text": [
      "15it [00:03,  4.52it/s]\n",
      "2it [00:00, 12.03it/s]\n",
      "2it [00:00, 12.88it/s]\n",
      "0it [00:00, ?it/s]"
     ]
    },
    {
     "name": "stdout",
     "output_type": "stream",
     "text": [
      "Ep: 044, LR: 0.000950, Los: 0.4200435, Val MAE: 0.6171, Test MAE: 0.5074, Time: 3.65\n"
     ]
    },
    {
     "name": "stderr",
     "output_type": "stream",
     "text": [
      "15it [00:03,  4.60it/s]\n",
      "2it [00:00, 12.20it/s]\n",
      "2it [00:00, 14.00it/s]\n",
      "0it [00:00, ?it/s]"
     ]
    },
    {
     "name": "stdout",
     "output_type": "stream",
     "text": [
      "Ep: 045, LR: 0.000948, Los: 0.4284834, Val MAE: 0.8198, Test MAE: 0.6808, Time: 3.58\n"
     ]
    },
    {
     "name": "stderr",
     "output_type": "stream",
     "text": [
      "15it [00:03,  4.56it/s]\n",
      "2it [00:00, 12.27it/s]\n",
      "2it [00:00, 13.03it/s]\n",
      "0it [00:00, ?it/s]"
     ]
    },
    {
     "name": "stdout",
     "output_type": "stream",
     "text": [
      "Ep: 046, LR: 0.000946, Los: 0.4943889, Val MAE: 0.6174, Test MAE: 0.5064, Time: 3.62\n"
     ]
    },
    {
     "name": "stderr",
     "output_type": "stream",
     "text": [
      "15it [00:03,  4.50it/s]\n",
      "2it [00:00, 12.36it/s]\n",
      "2it [00:00, 13.42it/s]\n",
      "0it [00:00, ?it/s]"
     ]
    },
    {
     "name": "stdout",
     "output_type": "stream",
     "text": [
      "Ep: 047, LR: 0.000943, Los: 0.4158278, Val MAE: 0.6433, Test MAE: 0.5385, Time: 3.65\n"
     ]
    },
    {
     "name": "stderr",
     "output_type": "stream",
     "text": [
      "15it [00:03,  4.53it/s]\n",
      "2it [00:00, 12.23it/s]\n",
      "2it [00:00, 12.79it/s]\n",
      "0it [00:00, ?it/s]"
     ]
    },
    {
     "name": "stdout",
     "output_type": "stream",
     "text": [
      "Ep: 048, LR: 0.000941, Los: 0.4314962, Val MAE: 0.6084, Test MAE: 0.4830, Time: 3.64\n"
     ]
    },
    {
     "name": "stderr",
     "output_type": "stream",
     "text": [
      "15it [00:03,  4.58it/s]\n",
      "2it [00:00, 12.32it/s]\n",
      "2it [00:00, 12.76it/s]\n",
      "0it [00:00, ?it/s]"
     ]
    },
    {
     "name": "stdout",
     "output_type": "stream",
     "text": [
      "Ep: 049, LR: 0.000938, Los: 0.4597125, Val MAE: 0.5947, Test MAE: 0.4881, Time: 3.60\n"
     ]
    },
    {
     "name": "stderr",
     "output_type": "stream",
     "text": [
      "15it [00:03,  4.61it/s]\n",
      "2it [00:00, 12.22it/s]\n",
      "2it [00:00, 12.76it/s]\n",
      "0it [00:00, ?it/s]"
     ]
    },
    {
     "name": "stdout",
     "output_type": "stream",
     "text": [
      "Ep: 050, LR: 0.000936, Los: 0.4392188, Val MAE: 0.5785, Test MAE: 0.4794, Time: 3.58\n"
     ]
    },
    {
     "name": "stderr",
     "output_type": "stream",
     "text": [
      "15it [00:03,  4.55it/s]\n",
      "2it [00:00, 11.56it/s]\n",
      "2it [00:00, 12.74it/s]\n",
      "0it [00:00, ?it/s]"
     ]
    },
    {
     "name": "stdout",
     "output_type": "stream",
     "text": [
      "Ep: 051, LR: 0.000933, Los: 0.4087213, Val MAE: 0.6046, Test MAE: 0.4692, Time: 3.64\n"
     ]
    },
    {
     "name": "stderr",
     "output_type": "stream",
     "text": [
      "15it [00:03,  4.50it/s]\n",
      "2it [00:00, 12.19it/s]\n",
      "2it [00:00, 11.83it/s]\n",
      "0it [00:00, ?it/s]"
     ]
    },
    {
     "name": "stdout",
     "output_type": "stream",
     "text": [
      "Ep: 052, LR: 0.000930, Los: 0.4218362, Val MAE: 0.6041, Test MAE: 0.5826, Time: 3.68\n"
     ]
    },
    {
     "name": "stderr",
     "output_type": "stream",
     "text": [
      "15it [00:03,  4.56it/s]\n",
      "2it [00:00, 12.83it/s]\n",
      "2it [00:00, 13.28it/s]\n",
      "0it [00:00, ?it/s]"
     ]
    },
    {
     "name": "stdout",
     "output_type": "stream",
     "text": [
      "Ep: 053, LR: 0.000928, Los: 0.4266169, Val MAE: 0.6901, Test MAE: 0.5226, Time: 3.60\n"
     ]
    },
    {
     "name": "stderr",
     "output_type": "stream",
     "text": [
      "15it [00:03,  4.57it/s]\n",
      "2it [00:00, 11.97it/s]\n",
      "2it [00:00, 13.01it/s]\n",
      "0it [00:00, ?it/s]"
     ]
    },
    {
     "name": "stdout",
     "output_type": "stream",
     "text": [
      "Ep: 054, LR: 0.000925, Los: 0.4740519, Val MAE: 0.6583, Test MAE: 0.5484, Time: 3.62\n"
     ]
    },
    {
     "name": "stderr",
     "output_type": "stream",
     "text": [
      "15it [00:03,  4.48it/s]\n",
      "2it [00:00, 12.40it/s]\n",
      "2it [00:00, 11.74it/s]\n",
      "0it [00:00, ?it/s]"
     ]
    },
    {
     "name": "stdout",
     "output_type": "stream",
     "text": [
      "Ep: 055, LR: 0.000922, Los: 0.4163737, Val MAE: 0.5648, Test MAE: 0.5087, Time: 3.69\n"
     ]
    },
    {
     "name": "stderr",
     "output_type": "stream",
     "text": [
      "15it [00:03,  4.51it/s]\n",
      "2it [00:00, 12.43it/s]\n",
      "2it [00:00, 13.51it/s]\n",
      "0it [00:00, ?it/s]"
     ]
    },
    {
     "name": "stdout",
     "output_type": "stream",
     "text": [
      "Ep: 056, LR: 0.000919, Los: 0.4020878, Val MAE: 0.5691, Test MAE: 0.4811, Time: 3.64\n"
     ]
    },
    {
     "name": "stderr",
     "output_type": "stream",
     "text": [
      "15it [00:03,  4.57it/s]\n",
      "2it [00:00, 12.87it/s]\n",
      "2it [00:00, 12.33it/s]\n",
      "0it [00:00, ?it/s]"
     ]
    },
    {
     "name": "stdout",
     "output_type": "stream",
     "text": [
      "Ep: 057, LR: 0.000916, Los: 0.3869117, Val MAE: 0.6015, Test MAE: 0.4642, Time: 3.61\n"
     ]
    },
    {
     "name": "stderr",
     "output_type": "stream",
     "text": [
      "15it [00:03,  4.54it/s]\n",
      "2it [00:00, 13.04it/s]\n",
      "2it [00:00, 12.66it/s]\n",
      "0it [00:00, ?it/s]"
     ]
    },
    {
     "name": "stdout",
     "output_type": "stream",
     "text": [
      "Ep: 058, LR: 0.000914, Los: 0.3712049, Val MAE: 0.5779, Test MAE: 0.4855, Time: 3.63\n"
     ]
    },
    {
     "name": "stderr",
     "output_type": "stream",
     "text": [
      "15it [00:03,  4.55it/s]\n",
      "2it [00:00, 12.73it/s]\n",
      "2it [00:00, 13.13it/s]\n",
      "0it [00:00, ?it/s]"
     ]
    },
    {
     "name": "stdout",
     "output_type": "stream",
     "text": [
      "Ep: 059, LR: 0.000911, Los: 0.3750318, Val MAE: 0.5328, Test MAE: 0.4375, Time: 3.61\n"
     ]
    },
    {
     "name": "stderr",
     "output_type": "stream",
     "text": [
      "15it [00:03,  4.58it/s]\n",
      "2it [00:00, 12.24it/s]\n",
      "2it [00:00, 12.98it/s]\n",
      "0it [00:00, ?it/s]"
     ]
    },
    {
     "name": "stdout",
     "output_type": "stream",
     "text": [
      "Ep: 060, LR: 0.000908, Los: 0.3619624, Val MAE: 0.6815, Test MAE: 0.5628, Time: 3.60\n"
     ]
    },
    {
     "name": "stderr",
     "output_type": "stream",
     "text": [
      "15it [00:03,  4.47it/s]\n",
      "2it [00:00, 12.09it/s]\n",
      "2it [00:00, 12.75it/s]\n",
      "0it [00:00, ?it/s]"
     ]
    },
    {
     "name": "stdout",
     "output_type": "stream",
     "text": [
      "Ep: 061, LR: 0.000905, Los: 0.4406010, Val MAE: 0.8015, Test MAE: 0.6227, Time: 3.69\n"
     ]
    },
    {
     "name": "stderr",
     "output_type": "stream",
     "text": [
      "15it [00:03,  4.59it/s]\n",
      "2it [00:00, 12.44it/s]\n",
      "2it [00:00, 12.85it/s]\n",
      "0it [00:00, ?it/s]"
     ]
    },
    {
     "name": "stdout",
     "output_type": "stream",
     "text": [
      "Ep: 062, LR: 0.000901, Los: 0.4290417, Val MAE: 0.6030, Test MAE: 0.5017, Time: 3.59\n"
     ]
    },
    {
     "name": "stderr",
     "output_type": "stream",
     "text": [
      "15it [00:03,  4.55it/s]\n",
      "2it [00:00, 12.59it/s]\n",
      "2it [00:00, 12.73it/s]\n",
      "0it [00:00, ?it/s]"
     ]
    },
    {
     "name": "stdout",
     "output_type": "stream",
     "text": [
      "Ep: 063, LR: 0.000898, Los: 0.3686290, Val MAE: 0.6039, Test MAE: 0.4944, Time: 3.62\n"
     ]
    },
    {
     "name": "stderr",
     "output_type": "stream",
     "text": [
      "15it [00:03,  4.53it/s]\n",
      "2it [00:00, 12.11it/s]\n",
      "2it [00:00, 12.80it/s]\n",
      "0it [00:00, ?it/s]"
     ]
    },
    {
     "name": "stdout",
     "output_type": "stream",
     "text": [
      "Ep: 064, LR: 0.000895, Los: 0.3741594, Val MAE: 0.5228, Test MAE: 0.4402, Time: 3.64\n"
     ]
    },
    {
     "name": "stderr",
     "output_type": "stream",
     "text": [
      "15it [00:03,  4.46it/s]\n",
      "2it [00:00, 12.22it/s]\n",
      "2it [00:00, 13.94it/s]\n",
      "0it [00:00, ?it/s]"
     ]
    },
    {
     "name": "stdout",
     "output_type": "stream",
     "text": [
      "Ep: 065, LR: 0.000892, Los: 0.3580811, Val MAE: 0.6163, Test MAE: 0.4621, Time: 3.68\n"
     ]
    },
    {
     "name": "stderr",
     "output_type": "stream",
     "text": [
      "15it [00:03,  4.50it/s]\n",
      "2it [00:00, 11.50it/s]\n",
      "2it [00:00, 12.68it/s]\n",
      "0it [00:00, ?it/s]"
     ]
    },
    {
     "name": "stdout",
     "output_type": "stream",
     "text": [
      "Ep: 066, LR: 0.000889, Los: 0.3418746, Val MAE: 0.5928, Test MAE: 0.4567, Time: 3.67\n"
     ]
    },
    {
     "name": "stderr",
     "output_type": "stream",
     "text": [
      "15it [00:03,  4.53it/s]\n",
      "2it [00:00, 11.73it/s]\n",
      "2it [00:00, 12.47it/s]\n",
      "0it [00:00, ?it/s]"
     ]
    },
    {
     "name": "stdout",
     "output_type": "stream",
     "text": [
      "Ep: 067, LR: 0.000885, Los: 0.3268599, Val MAE: 0.5458, Test MAE: 0.4987, Time: 3.65\n"
     ]
    },
    {
     "name": "stderr",
     "output_type": "stream",
     "text": [
      "15it [00:03,  4.60it/s]\n",
      "2it [00:00, 12.38it/s]\n",
      "2it [00:00, 13.14it/s]\n",
      "0it [00:00, ?it/s]"
     ]
    },
    {
     "name": "stdout",
     "output_type": "stream",
     "text": [
      "Ep: 068, LR: 0.000882, Los: 0.3587024, Val MAE: 0.5623, Test MAE: 0.4809, Time: 3.59\n"
     ]
    },
    {
     "name": "stderr",
     "output_type": "stream",
     "text": [
      "15it [00:03,  4.51it/s]\n",
      "2it [00:00, 12.51it/s]\n",
      "2it [00:00, 13.03it/s]\n",
      "0it [00:00, ?it/s]"
     ]
    },
    {
     "name": "stdout",
     "output_type": "stream",
     "text": [
      "Ep: 069, LR: 0.000878, Los: 0.3470553, Val MAE: 0.5458, Test MAE: 0.4556, Time: 3.65\n"
     ]
    },
    {
     "name": "stderr",
     "output_type": "stream",
     "text": [
      "15it [00:03,  4.52it/s]\n",
      "2it [00:00, 11.86it/s]\n",
      "2it [00:00, 11.72it/s]\n",
      "0it [00:00, ?it/s]"
     ]
    },
    {
     "name": "stdout",
     "output_type": "stream",
     "text": [
      "Ep: 070, LR: 0.000875, Los: 0.3093051, Val MAE: 0.6040, Test MAE: 0.5025, Time: 3.67\n"
     ]
    },
    {
     "name": "stderr",
     "output_type": "stream",
     "text": [
      "15it [00:03,  4.50it/s]\n",
      "2it [00:00, 12.30it/s]\n",
      "2it [00:00, 13.08it/s]\n",
      "0it [00:00, ?it/s]"
     ]
    },
    {
     "name": "stdout",
     "output_type": "stream",
     "text": [
      "Ep: 071, LR: 0.000872, Los: 0.3452158, Val MAE: 0.5674, Test MAE: 0.4607, Time: 3.66\n"
     ]
    },
    {
     "name": "stderr",
     "output_type": "stream",
     "text": [
      "15it [00:03,  4.61it/s]\n",
      "2it [00:00, 12.85it/s]\n",
      "2it [00:00, 12.35it/s]\n",
      "0it [00:00, ?it/s]"
     ]
    },
    {
     "name": "stdout",
     "output_type": "stream",
     "text": [
      "Ep: 072, LR: 0.000868, Los: 0.3227026, Val MAE: 0.5782, Test MAE: 0.4756, Time: 3.58\n"
     ]
    },
    {
     "name": "stderr",
     "output_type": "stream",
     "text": [
      "15it [00:03,  4.51it/s]\n",
      "2it [00:00, 12.79it/s]\n",
      "2it [00:00, 13.29it/s]\n",
      "0it [00:00, ?it/s]"
     ]
    },
    {
     "name": "stdout",
     "output_type": "stream",
     "text": [
      "Ep: 073, LR: 0.000864, Los: 0.3049622, Val MAE: 0.5803, Test MAE: 0.4330, Time: 3.64\n"
     ]
    },
    {
     "name": "stderr",
     "output_type": "stream",
     "text": [
      "15it [00:03,  4.48it/s]\n",
      "2it [00:00, 12.28it/s]\n",
      "2it [00:00, 12.86it/s]\n",
      "0it [00:00, ?it/s]"
     ]
    },
    {
     "name": "stdout",
     "output_type": "stream",
     "text": [
      "Ep: 074, LR: 0.000861, Los: 0.3115765, Val MAE: 0.5756, Test MAE: 0.4707, Time: 3.67\n"
     ]
    },
    {
     "name": "stderr",
     "output_type": "stream",
     "text": [
      "15it [00:03,  4.62it/s]\n",
      "2it [00:00, 12.36it/s]\n",
      "2it [00:00, 13.31it/s]\n",
      "0it [00:00, ?it/s]"
     ]
    },
    {
     "name": "stdout",
     "output_type": "stream",
     "text": [
      "Ep: 075, LR: 0.000857, Los: 0.2992341, Val MAE: 0.5657, Test MAE: 0.4836, Time: 3.57\n"
     ]
    },
    {
     "name": "stderr",
     "output_type": "stream",
     "text": [
      "15it [00:03,  4.54it/s]\n",
      "2it [00:00, 12.15it/s]\n",
      "2it [00:00, 13.40it/s]\n",
      "1it [00:00,  5.07it/s]"
     ]
    },
    {
     "name": "stdout",
     "output_type": "stream",
     "text": [
      "Ep: 076, LR: 0.000854, Los: 0.3072988, Val MAE: 0.5798, Test MAE: 0.4515, Time: 3.63\n"
     ]
    },
    {
     "name": "stderr",
     "output_type": "stream",
     "text": [
      "15it [00:03,  4.51it/s]\n",
      "2it [00:00, 12.44it/s]\n",
      "2it [00:00, 12.88it/s]\n",
      "0it [00:00, ?it/s]"
     ]
    },
    {
     "name": "stdout",
     "output_type": "stream",
     "text": [
      "Ep: 077, LR: 0.000850, Los: 0.3015852, Val MAE: 0.5727, Test MAE: 0.4554, Time: 3.65\n"
     ]
    },
    {
     "name": "stderr",
     "output_type": "stream",
     "text": [
      "15it [00:03,  4.56it/s]\n",
      "2it [00:00, 12.77it/s]\n",
      "2it [00:00, 12.86it/s]\n",
      "0it [00:00, ?it/s]"
     ]
    },
    {
     "name": "stdout",
     "output_type": "stream",
     "text": [
      "Ep: 078, LR: 0.000846, Los: 0.3025622, Val MAE: 0.5669, Test MAE: 0.4820, Time: 3.61\n"
     ]
    },
    {
     "name": "stderr",
     "output_type": "stream",
     "text": [
      "15it [00:03,  4.57it/s]\n",
      "2it [00:00, 12.80it/s]\n",
      "2it [00:00, 12.93it/s]\n",
      "0it [00:00, ?it/s]"
     ]
    },
    {
     "name": "stdout",
     "output_type": "stream",
     "text": [
      "Ep: 079, LR: 0.000842, Los: 0.3075235, Val MAE: 0.5606, Test MAE: 0.4661, Time: 3.60\n"
     ]
    },
    {
     "name": "stderr",
     "output_type": "stream",
     "text": [
      "15it [00:03,  4.46it/s]\n",
      "2it [00:00, 12.49it/s]\n",
      "2it [00:00, 13.59it/s]\n",
      "0it [00:00, ?it/s]"
     ]
    },
    {
     "name": "stdout",
     "output_type": "stream",
     "text": [
      "Ep: 080, LR: 0.000838, Los: 0.2946789, Val MAE: 0.5312, Test MAE: 0.4225, Time: 3.68\n"
     ]
    },
    {
     "name": "stderr",
     "output_type": "stream",
     "text": [
      "15it [00:03,  4.54it/s]\n",
      "2it [00:00, 12.35it/s]\n",
      "2it [00:00, 12.64it/s]\n",
      "0it [00:00, ?it/s]"
     ]
    },
    {
     "name": "stdout",
     "output_type": "stream",
     "text": [
      "Ep: 081, LR: 0.000835, Los: 0.2641801, Val MAE: 0.5700, Test MAE: 0.4366, Time: 3.63\n"
     ]
    },
    {
     "name": "stderr",
     "output_type": "stream",
     "text": [
      "15it [00:03,  4.60it/s]\n",
      "2it [00:00, 12.83it/s]\n",
      "2it [00:00, 13.10it/s]\n",
      "0it [00:00, ?it/s]"
     ]
    },
    {
     "name": "stdout",
     "output_type": "stream",
     "text": [
      "Ep: 082, LR: 0.000831, Los: 0.3537579, Val MAE: 0.6314, Test MAE: 0.4672, Time: 3.58\n"
     ]
    },
    {
     "name": "stderr",
     "output_type": "stream",
     "text": [
      "15it [00:03,  4.51it/s]\n",
      "2it [00:00, 12.73it/s]\n",
      "2it [00:00, 12.99it/s]\n",
      "0it [00:00, ?it/s]"
     ]
    },
    {
     "name": "stdout",
     "output_type": "stream",
     "text": [
      "Ep: 083, LR: 0.000827, Los: 0.3696435, Val MAE: 0.5518, Test MAE: 0.4465, Time: 3.65\n"
     ]
    },
    {
     "name": "stderr",
     "output_type": "stream",
     "text": [
      "15it [00:03,  4.46it/s]\n",
      "2it [00:00, 12.71it/s]\n",
      "2it [00:00, 12.92it/s]\n",
      "0it [00:00, ?it/s]"
     ]
    },
    {
     "name": "stdout",
     "output_type": "stream",
     "text": [
      "Ep: 084, LR: 0.000823, Los: 0.3373485, Val MAE: 0.5762, Test MAE: 0.4281, Time: 3.68\n"
     ]
    },
    {
     "name": "stderr",
     "output_type": "stream",
     "text": [
      "15it [00:03,  4.62it/s]\n",
      "2it [00:00, 12.38it/s]\n",
      "2it [00:00, 12.88it/s]\n",
      "0it [00:00, ?it/s]"
     ]
    },
    {
     "name": "stdout",
     "output_type": "stream",
     "text": [
      "Ep: 085, LR: 0.000819, Los: 0.2977952, Val MAE: 0.5878, Test MAE: 0.5436, Time: 3.57\n"
     ]
    },
    {
     "name": "stderr",
     "output_type": "stream",
     "text": [
      "15it [00:03,  4.44it/s]\n",
      "2it [00:00, 12.11it/s]\n",
      "2it [00:00, 12.18it/s]\n",
      "0it [00:00, ?it/s]"
     ]
    },
    {
     "name": "stdout",
     "output_type": "stream",
     "text": [
      "Ep: 086, LR: 0.000815, Los: 0.3854399, Val MAE: 0.5865, Test MAE: 0.4399, Time: 3.72\n"
     ]
    },
    {
     "name": "stderr",
     "output_type": "stream",
     "text": [
      "15it [00:03,  4.56it/s]\n",
      "2it [00:00, 11.32it/s]\n",
      "2it [00:00, 13.33it/s]\n",
      "0it [00:00, ?it/s]"
     ]
    },
    {
     "name": "stdout",
     "output_type": "stream",
     "text": [
      "Ep: 087, LR: 0.000811, Los: 0.3298468, Val MAE: 0.5186, Test MAE: 0.4861, Time: 3.63\n"
     ]
    },
    {
     "name": "stderr",
     "output_type": "stream",
     "text": [
      "15it [00:03,  4.58it/s]\n",
      "2it [00:00, 13.03it/s]\n",
      "2it [00:00, 12.98it/s]\n",
      "0it [00:00, ?it/s]"
     ]
    },
    {
     "name": "stdout",
     "output_type": "stream",
     "text": [
      "Ep: 088, LR: 0.000806, Los: 0.3187023, Val MAE: 0.5892, Test MAE: 0.4820, Time: 3.59\n"
     ]
    },
    {
     "name": "stderr",
     "output_type": "stream",
     "text": [
      "15it [00:03,  4.55it/s]\n",
      "2it [00:00, 11.87it/s]\n",
      "2it [00:00, 13.13it/s]\n",
      "0it [00:00, ?it/s]"
     ]
    },
    {
     "name": "stdout",
     "output_type": "stream",
     "text": [
      "Ep: 089, LR: 0.000802, Los: 0.2856117, Val MAE: 0.6130, Test MAE: 0.4670, Time: 3.63\n"
     ]
    },
    {
     "name": "stderr",
     "output_type": "stream",
     "text": [
      "15it [00:03,  4.59it/s]\n",
      "2it [00:00, 12.29it/s]\n",
      "2it [00:00, 12.68it/s]\n",
      "0it [00:00, ?it/s]"
     ]
    },
    {
     "name": "stdout",
     "output_type": "stream",
     "text": [
      "Ep: 090, LR: 0.000798, Los: 0.3231652, Val MAE: 0.6162, Test MAE: 0.4693, Time: 3.61\n"
     ]
    },
    {
     "name": "stderr",
     "output_type": "stream",
     "text": [
      "15it [00:03,  4.48it/s]\n",
      "2it [00:00, 12.40it/s]\n",
      "2it [00:00, 13.14it/s]\n",
      "0it [00:00, ?it/s]"
     ]
    },
    {
     "name": "stdout",
     "output_type": "stream",
     "text": [
      "Ep: 091, LR: 0.000794, Los: 0.3152018, Val MAE: 0.5915, Test MAE: 0.4049, Time: 3.67\n"
     ]
    },
    {
     "name": "stderr",
     "output_type": "stream",
     "text": [
      "15it [00:03,  4.53it/s]\n",
      "2it [00:00, 12.56it/s]\n",
      "2it [00:00, 12.28it/s]\n",
      "0it [00:00, ?it/s]"
     ]
    },
    {
     "name": "stdout",
     "output_type": "stream",
     "text": [
      "Ep: 092, LR: 0.000790, Los: 0.2744734, Val MAE: 0.5324, Test MAE: 0.4688, Time: 3.64\n"
     ]
    },
    {
     "name": "stderr",
     "output_type": "stream",
     "text": [
      "15it [00:03,  4.49it/s]\n",
      "2it [00:00, 11.60it/s]\n",
      "2it [00:00, 12.97it/s]\n",
      "0it [00:00, ?it/s]"
     ]
    },
    {
     "name": "stdout",
     "output_type": "stream",
     "text": [
      "Ep: 093, LR: 0.000785, Los: 0.2612600, Val MAE: 0.5509, Test MAE: 0.4636, Time: 3.68\n"
     ]
    },
    {
     "name": "stderr",
     "output_type": "stream",
     "text": [
      "15it [00:03,  4.53it/s]\n",
      "2it [00:00, 11.85it/s]\n",
      "2it [00:00, 13.17it/s]\n",
      "0it [00:00, ?it/s]"
     ]
    },
    {
     "name": "stdout",
     "output_type": "stream",
     "text": [
      "Ep: 094, LR: 0.000781, Los: 0.2659714, Val MAE: 0.6097, Test MAE: 0.4810, Time: 3.64\n"
     ]
    },
    {
     "name": "stderr",
     "output_type": "stream",
     "text": [
      "15it [00:03,  4.54it/s]\n",
      "2it [00:00, 12.88it/s]\n",
      "2it [00:00, 13.69it/s]\n",
      "0it [00:00, ?it/s]"
     ]
    },
    {
     "name": "stdout",
     "output_type": "stream",
     "text": [
      "Ep: 095, LR: 0.000777, Los: 0.2620732, Val MAE: 0.6096, Test MAE: 0.5107, Time: 3.62\n"
     ]
    },
    {
     "name": "stderr",
     "output_type": "stream",
     "text": [
      "15it [00:03,  4.54it/s]\n",
      "2it [00:00, 12.44it/s]\n",
      "2it [00:00, 13.19it/s]\n",
      "0it [00:00, ?it/s]"
     ]
    },
    {
     "name": "stdout",
     "output_type": "stream",
     "text": [
      "Ep: 096, LR: 0.000772, Los: 0.3320691, Val MAE: 0.5556, Test MAE: 0.4388, Time: 3.63\n"
     ]
    },
    {
     "name": "stderr",
     "output_type": "stream",
     "text": [
      "15it [00:03,  4.56it/s]\n",
      "2it [00:00, 12.88it/s]\n",
      "2it [00:00, 13.43it/s]\n",
      "0it [00:00, ?it/s]"
     ]
    },
    {
     "name": "stdout",
     "output_type": "stream",
     "text": [
      "Ep: 097, LR: 0.000768, Los: 0.2749704, Val MAE: 0.5607, Test MAE: 0.4725, Time: 3.60\n"
     ]
    },
    {
     "name": "stderr",
     "output_type": "stream",
     "text": [
      "15it [00:03,  4.46it/s]\n",
      "2it [00:00, 12.00it/s]\n",
      "2it [00:00, 12.27it/s]\n",
      "0it [00:00, ?it/s]"
     ]
    },
    {
     "name": "stdout",
     "output_type": "stream",
     "text": [
      "Ep: 098, LR: 0.000763, Los: 0.2755820, Val MAE: 0.5547, Test MAE: 0.5068, Time: 3.70\n"
     ]
    },
    {
     "name": "stderr",
     "output_type": "stream",
     "text": [
      "15it [00:03,  4.46it/s]\n",
      "2it [00:00, 12.28it/s]\n",
      "2it [00:00, 13.14it/s]\n",
      "0it [00:00, ?it/s]"
     ]
    },
    {
     "name": "stdout",
     "output_type": "stream",
     "text": [
      "Ep: 099, LR: 0.000759, Los: 0.2763808, Val MAE: 0.5386, Test MAE: 0.4700, Time: 3.69\n"
     ]
    },
    {
     "name": "stderr",
     "output_type": "stream",
     "text": [
      "15it [00:03,  4.53it/s]\n",
      "2it [00:00, 12.77it/s]\n",
      "2it [00:00, 13.09it/s]\n",
      "0it [00:00, ?it/s]"
     ]
    },
    {
     "name": "stdout",
     "output_type": "stream",
     "text": [
      "Ep: 100, LR: 0.000755, Los: 0.2712799, Val MAE: 0.5420, Test MAE: 0.5179, Time: 3.63\n"
     ]
    },
    {
     "name": "stderr",
     "output_type": "stream",
     "text": [
      "15it [00:03,  4.53it/s]\n",
      "2it [00:00, 12.65it/s]\n",
      "2it [00:00, 13.24it/s]\n",
      "1it [00:00,  5.36it/s]"
     ]
    },
    {
     "name": "stdout",
     "output_type": "stream",
     "text": [
      "Ep: 101, LR: 0.000750, Los: 0.2715971, Val MAE: 0.5605, Test MAE: 0.4712, Time: 3.63\n"
     ]
    },
    {
     "name": "stderr",
     "output_type": "stream",
     "text": [
      "15it [00:03,  4.62it/s]\n",
      "2it [00:00, 12.47it/s]\n",
      "2it [00:00, 13.44it/s]\n",
      "0it [00:00, ?it/s]"
     ]
    },
    {
     "name": "stdout",
     "output_type": "stream",
     "text": [
      "Ep: 102, LR: 0.000745, Los: 0.2708472, Val MAE: 0.5433, Test MAE: 0.4285, Time: 3.57\n"
     ]
    },
    {
     "name": "stderr",
     "output_type": "stream",
     "text": [
      "15it [00:03,  4.57it/s]\n",
      "2it [00:00, 13.08it/s]\n",
      "2it [00:00, 12.90it/s]\n",
      "0it [00:00, ?it/s]"
     ]
    },
    {
     "name": "stdout",
     "output_type": "stream",
     "text": [
      "Ep: 103, LR: 0.000741, Los: 0.2389393, Val MAE: 0.5468, Test MAE: 0.4689, Time: 3.60\n"
     ]
    },
    {
     "name": "stderr",
     "output_type": "stream",
     "text": [
      "15it [00:03,  4.58it/s]\n",
      "2it [00:00, 13.06it/s]\n",
      "2it [00:00, 13.61it/s]\n",
      "0it [00:00, ?it/s]"
     ]
    },
    {
     "name": "stdout",
     "output_type": "stream",
     "text": [
      "Ep: 104, LR: 0.000736, Los: 0.3162717, Val MAE: 0.5523, Test MAE: 0.4929, Time: 3.58\n"
     ]
    },
    {
     "name": "stderr",
     "output_type": "stream",
     "text": [
      "15it [00:03,  4.53it/s]\n",
      "2it [00:00, 12.41it/s]\n",
      "2it [00:00, 12.73it/s]\n",
      "1it [00:00,  5.05it/s]"
     ]
    },
    {
     "name": "stdout",
     "output_type": "stream",
     "text": [
      "Ep: 105, LR: 0.000732, Los: 0.2641990, Val MAE: 0.5391, Test MAE: 0.4983, Time: 3.64\n"
     ]
    },
    {
     "name": "stderr",
     "output_type": "stream",
     "text": [
      "15it [00:03,  4.51it/s]\n",
      "2it [00:00, 11.47it/s]\n",
      "2it [00:00, 11.97it/s]\n",
      "0it [00:00, ?it/s]"
     ]
    },
    {
     "name": "stdout",
     "output_type": "stream",
     "text": [
      "Ep: 106, LR: 0.000727, Los: 0.2442996, Val MAE: 0.5377, Test MAE: 0.4437, Time: 3.68\n"
     ]
    },
    {
     "name": "stderr",
     "output_type": "stream",
     "text": [
      "15it [00:03,  4.50it/s]\n",
      "2it [00:00, 10.92it/s]\n",
      "2it [00:00, 12.90it/s]\n",
      "0it [00:00, ?it/s]"
     ]
    },
    {
     "name": "stdout",
     "output_type": "stream",
     "text": [
      "Ep: 107, LR: 0.000722, Los: 0.2632476, Val MAE: 0.5443, Test MAE: 0.4651, Time: 3.68\n"
     ]
    },
    {
     "name": "stderr",
     "output_type": "stream",
     "text": [
      "15it [00:03,  4.49it/s]\n",
      "2it [00:00, 12.12it/s]\n",
      "2it [00:00, 12.98it/s]\n",
      "0it [00:00, ?it/s]"
     ]
    },
    {
     "name": "stdout",
     "output_type": "stream",
     "text": [
      "Ep: 108, LR: 0.000718, Los: 0.2426314, Val MAE: 0.5765, Test MAE: 0.4472, Time: 3.67\n"
     ]
    },
    {
     "name": "stderr",
     "output_type": "stream",
     "text": [
      "15it [00:03,  4.58it/s]\n",
      "2it [00:00, 11.99it/s]\n",
      "2it [00:00, 12.96it/s]\n",
      "0it [00:00, ?it/s]"
     ]
    },
    {
     "name": "stdout",
     "output_type": "stream",
     "text": [
      "Ep: 109, LR: 0.000713, Los: 0.2743286, Val MAE: 0.5911, Test MAE: 0.4557, Time: 3.61\n"
     ]
    },
    {
     "name": "stderr",
     "output_type": "stream",
     "text": [
      "15it [00:03,  4.55it/s]\n",
      "2it [00:00, 12.80it/s]\n",
      "2it [00:00, 13.31it/s]\n",
      "0it [00:00, ?it/s]"
     ]
    },
    {
     "name": "stdout",
     "output_type": "stream",
     "text": [
      "Ep: 110, LR: 0.000708, Los: 0.2602072, Val MAE: 0.5412, Test MAE: 0.4487, Time: 3.61\n"
     ]
    },
    {
     "name": "stderr",
     "output_type": "stream",
     "text": [
      "15it [00:03,  4.54it/s]\n",
      "2it [00:00, 13.50it/s]\n",
      "2it [00:00, 13.43it/s]\n",
      "0it [00:00, ?it/s]"
     ]
    },
    {
     "name": "stdout",
     "output_type": "stream",
     "text": [
      "Ep: 111, LR: 0.000703, Los: 0.2439193, Val MAE: 0.6320, Test MAE: 0.4860, Time: 3.61\n"
     ]
    },
    {
     "name": "stderr",
     "output_type": "stream",
     "text": [
      "15it [00:03,  4.57it/s]\n",
      "2it [00:00, 12.45it/s]\n",
      "2it [00:00, 13.13it/s]\n",
      "0it [00:00, ?it/s]"
     ]
    },
    {
     "name": "stdout",
     "output_type": "stream",
     "text": [
      "Ep: 112, LR: 0.000699, Los: 0.2629014, Val MAE: 0.5941, Test MAE: 0.5095, Time: 3.61\n"
     ]
    },
    {
     "name": "stderr",
     "output_type": "stream",
     "text": [
      "15it [00:03,  4.56it/s]\n",
      "2it [00:00, 12.24it/s]\n",
      "2it [00:00, 11.68it/s]\n",
      "0it [00:00, ?it/s]"
     ]
    },
    {
     "name": "stdout",
     "output_type": "stream",
     "text": [
      "Ep: 113, LR: 0.000694, Los: 0.2261340, Val MAE: 0.5224, Test MAE: 0.4627, Time: 3.64\n"
     ]
    },
    {
     "name": "stderr",
     "output_type": "stream",
     "text": [
      "15it [00:03,  4.50it/s]\n",
      "2it [00:00, 11.83it/s]\n",
      "2it [00:00, 12.12it/s]\n",
      "0it [00:00, ?it/s]"
     ]
    },
    {
     "name": "stdout",
     "output_type": "stream",
     "text": [
      "Ep: 114, LR: 0.000689, Los: 0.2217367, Val MAE: 0.5175, Test MAE: 0.4377, Time: 3.67\n"
     ]
    },
    {
     "name": "stderr",
     "output_type": "stream",
     "text": [
      "15it [00:03,  4.60it/s]\n",
      "2it [00:00, 12.70it/s]\n",
      "2it [00:00, 13.39it/s]\n",
      "0it [00:00, ?it/s]"
     ]
    },
    {
     "name": "stdout",
     "output_type": "stream",
     "text": [
      "Ep: 115, LR: 0.000684, Los: 0.2114294, Val MAE: 0.5351, Test MAE: 0.4354, Time: 3.58\n"
     ]
    },
    {
     "name": "stderr",
     "output_type": "stream",
     "text": [
      "15it [00:03,  4.57it/s]\n",
      "2it [00:00, 12.94it/s]\n",
      "2it [00:00, 12.75it/s]\n",
      "0it [00:00, ?it/s]"
     ]
    },
    {
     "name": "stdout",
     "output_type": "stream",
     "text": [
      "Ep: 116, LR: 0.000679, Los: 0.2117154, Val MAE: 0.5576, Test MAE: 0.4709, Time: 3.61\n"
     ]
    },
    {
     "name": "stderr",
     "output_type": "stream",
     "text": [
      "15it [00:03,  4.58it/s]\n",
      "2it [00:00, 13.00it/s]\n",
      "2it [00:00, 13.43it/s]\n",
      "0it [00:00, ?it/s]"
     ]
    },
    {
     "name": "stdout",
     "output_type": "stream",
     "text": [
      "Ep: 117, LR: 0.000674, Los: 0.2284010, Val MAE: 0.5655, Test MAE: 0.4709, Time: 3.59\n"
     ]
    },
    {
     "name": "stderr",
     "output_type": "stream",
     "text": [
      "15it [00:03,  4.59it/s]\n",
      "2it [00:00, 12.89it/s]\n",
      "2it [00:00, 13.18it/s]\n",
      "0it [00:00, ?it/s]"
     ]
    },
    {
     "name": "stdout",
     "output_type": "stream",
     "text": [
      "Ep: 118, LR: 0.000669, Los: 0.2145934, Val MAE: 0.5570, Test MAE: 0.4639, Time: 3.59\n"
     ]
    },
    {
     "name": "stderr",
     "output_type": "stream",
     "text": [
      "15it [00:03,  4.53it/s]\n",
      "2it [00:00, 13.22it/s]\n",
      "2it [00:00, 13.06it/s]\n",
      "0it [00:00, ?it/s]"
     ]
    },
    {
     "name": "stdout",
     "output_type": "stream",
     "text": [
      "Ep: 119, LR: 0.000664, Los: 0.2154440, Val MAE: 0.5547, Test MAE: 0.4620, Time: 3.62\n"
     ]
    },
    {
     "name": "stderr",
     "output_type": "stream",
     "text": [
      "15it [00:03,  4.56it/s]\n",
      "2it [00:00, 11.96it/s]\n",
      "2it [00:00, 12.05it/s]\n",
      "0it [00:00, ?it/s]"
     ]
    },
    {
     "name": "stdout",
     "output_type": "stream",
     "text": [
      "Ep: 120, LR: 0.000659, Los: 0.1903735, Val MAE: 0.5282, Test MAE: 0.4214, Time: 3.63\n"
     ]
    },
    {
     "name": "stderr",
     "output_type": "stream",
     "text": [
      "15it [00:03,  4.49it/s]\n",
      "2it [00:00, 12.52it/s]\n",
      "2it [00:00, 12.95it/s]\n",
      "0it [00:00, ?it/s]"
     ]
    },
    {
     "name": "stdout",
     "output_type": "stream",
     "text": [
      "Ep: 121, LR: 0.000655, Los: 0.1892250, Val MAE: 0.5411, Test MAE: 0.4604, Time: 3.67\n"
     ]
    },
    {
     "name": "stderr",
     "output_type": "stream",
     "text": [
      "15it [00:03,  4.53it/s]\n",
      "2it [00:00, 12.65it/s]\n",
      "2it [00:00, 12.66it/s]\n",
      "0it [00:00, ?it/s]"
     ]
    },
    {
     "name": "stdout",
     "output_type": "stream",
     "text": [
      "Ep: 122, LR: 0.000650, Los: 0.2013903, Val MAE: 0.5757, Test MAE: 0.4607, Time: 3.63\n"
     ]
    },
    {
     "name": "stderr",
     "output_type": "stream",
     "text": [
      "15it [00:03,  4.58it/s]\n",
      "2it [00:00, 12.27it/s]\n",
      "2it [00:00, 13.46it/s]\n",
      "0it [00:00, ?it/s]"
     ]
    },
    {
     "name": "stdout",
     "output_type": "stream",
     "text": [
      "Ep: 123, LR: 0.000645, Los: 0.2386721, Val MAE: 0.5427, Test MAE: 0.4401, Time: 3.60\n"
     ]
    },
    {
     "name": "stderr",
     "output_type": "stream",
     "text": [
      "15it [00:03,  4.60it/s]\n",
      "2it [00:00, 12.42it/s]\n",
      "2it [00:00, 12.98it/s]\n",
      "0it [00:00, ?it/s]"
     ]
    },
    {
     "name": "stdout",
     "output_type": "stream",
     "text": [
      "Ep: 124, LR: 0.000639, Los: 0.2470895, Val MAE: 0.5826, Test MAE: 0.4584, Time: 3.59\n"
     ]
    },
    {
     "name": "stderr",
     "output_type": "stream",
     "text": [
      "15it [00:03,  4.62it/s]\n",
      "2it [00:00, 12.58it/s]\n",
      "2it [00:00, 12.68it/s]\n",
      "0it [00:00, ?it/s]"
     ]
    },
    {
     "name": "stdout",
     "output_type": "stream",
     "text": [
      "Ep: 125, LR: 0.000634, Los: 0.2108422, Val MAE: 0.5656, Test MAE: 0.4323, Time: 3.58\n"
     ]
    },
    {
     "name": "stderr",
     "output_type": "stream",
     "text": [
      "15it [00:03,  4.51it/s]\n",
      "2it [00:00, 12.37it/s]\n",
      "2it [00:00, 12.95it/s]\n",
      "0it [00:00, ?it/s]"
     ]
    },
    {
     "name": "stdout",
     "output_type": "stream",
     "text": [
      "Ep: 126, LR: 0.000629, Los: 0.1938490, Val MAE: 0.5448, Test MAE: 0.4283, Time: 3.65\n"
     ]
    },
    {
     "name": "stderr",
     "output_type": "stream",
     "text": [
      "15it [00:03,  4.59it/s]\n",
      "2it [00:00, 12.48it/s]\n",
      "2it [00:00, 12.71it/s]\n",
      "0it [00:00, ?it/s]"
     ]
    },
    {
     "name": "stdout",
     "output_type": "stream",
     "text": [
      "Ep: 127, LR: 0.000624, Los: 0.2083067, Val MAE: 0.5595, Test MAE: 0.4436, Time: 3.59\n"
     ]
    },
    {
     "name": "stderr",
     "output_type": "stream",
     "text": [
      "15it [00:03,  4.22it/s]\n",
      "2it [00:00, 12.81it/s]\n",
      "2it [00:00, 12.92it/s]\n",
      "0it [00:00, ?it/s]"
     ]
    },
    {
     "name": "stdout",
     "output_type": "stream",
     "text": [
      "Ep: 128, LR: 0.000619, Los: 0.1906000, Val MAE: 0.5797, Test MAE: 0.4324, Time: 3.87\n"
     ]
    },
    {
     "name": "stderr",
     "output_type": "stream",
     "text": [
      "15it [00:03,  4.66it/s]\n",
      "2it [00:00, 12.68it/s]\n",
      "2it [00:00, 13.18it/s]\n",
      "0it [00:00, ?it/s]"
     ]
    },
    {
     "name": "stdout",
     "output_type": "stream",
     "text": [
      "Ep: 129, LR: 0.000614, Los: 0.2149459, Val MAE: 0.5594, Test MAE: 0.4458, Time: 3.54\n"
     ]
    },
    {
     "name": "stderr",
     "output_type": "stream",
     "text": [
      "15it [00:03,  4.59it/s]\n",
      "2it [00:00, 12.53it/s]\n",
      "2it [00:00, 12.50it/s]\n",
      "0it [00:00, ?it/s]"
     ]
    },
    {
     "name": "stdout",
     "output_type": "stream",
     "text": [
      "Ep: 130, LR: 0.000609, Los: 0.1862130, Val MAE: 0.5461, Test MAE: 0.4359, Time: 3.60\n"
     ]
    },
    {
     "name": "stderr",
     "output_type": "stream",
     "text": [
      "15it [00:03,  4.46it/s]\n",
      "2it [00:00, 12.86it/s]\n",
      "2it [00:00, 13.17it/s]\n",
      "0it [00:00, ?it/s]"
     ]
    },
    {
     "name": "stdout",
     "output_type": "stream",
     "text": [
      "Ep: 131, LR: 0.000604, Los: 0.1764405, Val MAE: 0.5621, Test MAE: 0.4436, Time: 3.68\n"
     ]
    },
    {
     "name": "stderr",
     "output_type": "stream",
     "text": [
      "15it [00:03,  4.55it/s]\n",
      "2it [00:00, 12.55it/s]\n",
      "2it [00:00, 12.80it/s]\n",
      "0it [00:00, ?it/s]"
     ]
    },
    {
     "name": "stdout",
     "output_type": "stream",
     "text": [
      "Ep: 132, LR: 0.000599, Los: 0.1840543, Val MAE: 0.5523, Test MAE: 0.4356, Time: 3.62\n"
     ]
    },
    {
     "name": "stderr",
     "output_type": "stream",
     "text": [
      "15it [00:03,  4.48it/s]\n",
      "2it [00:00, 12.31it/s]\n",
      "2it [00:00, 13.46it/s]\n",
      "0it [00:00, ?it/s]"
     ]
    },
    {
     "name": "stdout",
     "output_type": "stream",
     "text": [
      "Ep: 133, LR: 0.000594, Los: 0.2301890, Val MAE: 0.5901, Test MAE: 0.4516, Time: 3.67\n"
     ]
    },
    {
     "name": "stderr",
     "output_type": "stream",
     "text": [
      "15it [00:03,  4.60it/s]\n",
      "2it [00:00, 12.34it/s]\n",
      "2it [00:00, 13.05it/s]\n",
      "0it [00:00, ?it/s]"
     ]
    },
    {
     "name": "stdout",
     "output_type": "stream",
     "text": [
      "Ep: 134, LR: 0.000589, Los: 0.1877425, Val MAE: 0.5515, Test MAE: 0.4658, Time: 3.59\n"
     ]
    },
    {
     "name": "stderr",
     "output_type": "stream",
     "text": [
      "15it [00:03,  4.60it/s]\n",
      "2it [00:00, 12.57it/s]\n",
      "2it [00:00, 12.95it/s]\n",
      "0it [00:00, ?it/s]"
     ]
    },
    {
     "name": "stdout",
     "output_type": "stream",
     "text": [
      "Ep: 135, LR: 0.000583, Los: 0.1804490, Val MAE: 0.5562, Test MAE: 0.4331, Time: 3.58\n"
     ]
    },
    {
     "name": "stderr",
     "output_type": "stream",
     "text": [
      "15it [00:03,  4.60it/s]\n",
      "2it [00:00, 13.11it/s]\n",
      "2it [00:00, 13.29it/s]\n",
      "0it [00:00, ?it/s]"
     ]
    },
    {
     "name": "stdout",
     "output_type": "stream",
     "text": [
      "Ep: 136, LR: 0.000578, Los: 0.1639727, Val MAE: 0.5485, Test MAE: 0.4495, Time: 3.57\n"
     ]
    },
    {
     "name": "stderr",
     "output_type": "stream",
     "text": [
      "15it [00:03,  4.60it/s]\n",
      "2it [00:00, 12.21it/s]\n",
      "2it [00:00, 13.64it/s]\n",
      "0it [00:00, ?it/s]"
     ]
    },
    {
     "name": "stdout",
     "output_type": "stream",
     "text": [
      "Ep: 137, LR: 0.000573, Los: 0.1858998, Val MAE: 0.5715, Test MAE: 0.4239, Time: 3.58\n"
     ]
    },
    {
     "name": "stderr",
     "output_type": "stream",
     "text": [
      "15it [00:03,  4.53it/s]\n",
      "2it [00:00, 11.64it/s]\n",
      "2it [00:00, 13.49it/s]\n",
      "0it [00:00, ?it/s]"
     ]
    },
    {
     "name": "stdout",
     "output_type": "stream",
     "text": [
      "Ep: 138, LR: 0.000568, Los: 0.1724536, Val MAE: 0.5486, Test MAE: 0.4498, Time: 3.64\n"
     ]
    },
    {
     "name": "stderr",
     "output_type": "stream",
     "text": [
      "15it [00:03,  4.44it/s]\n",
      "2it [00:00, 12.87it/s]\n",
      "2it [00:00, 13.55it/s]\n",
      "0it [00:00, ?it/s]"
     ]
    },
    {
     "name": "stdout",
     "output_type": "stream",
     "text": [
      "Ep: 139, LR: 0.000563, Los: 0.1756726, Val MAE: 0.5638, Test MAE: 0.4330, Time: 3.69\n"
     ]
    },
    {
     "name": "stderr",
     "output_type": "stream",
     "text": [
      "15it [00:03,  4.64it/s]\n",
      "2it [00:00, 12.65it/s]\n",
      "2it [00:00, 12.50it/s]\n",
      "0it [00:00, ?it/s]"
     ]
    },
    {
     "name": "stdout",
     "output_type": "stream",
     "text": [
      "Ep: 140, LR: 0.000557, Los: 0.1684582, Val MAE: 0.5576, Test MAE: 0.4207, Time: 3.56\n"
     ]
    },
    {
     "name": "stderr",
     "output_type": "stream",
     "text": [
      "15it [00:03,  4.59it/s]\n",
      "2it [00:00, 12.71it/s]\n",
      "2it [00:00, 13.36it/s]\n",
      "0it [00:00, ?it/s]"
     ]
    },
    {
     "name": "stdout",
     "output_type": "stream",
     "text": [
      "Ep: 141, LR: 0.000552, Los: 0.1637677, Val MAE: 0.5616, Test MAE: 0.4713, Time: 3.58\n"
     ]
    },
    {
     "name": "stderr",
     "output_type": "stream",
     "text": [
      "15it [00:03,  4.44it/s]\n",
      "2it [00:00, 11.68it/s]\n",
      "2it [00:00, 12.53it/s]\n",
      "0it [00:00, ?it/s]"
     ]
    },
    {
     "name": "stdout",
     "output_type": "stream",
     "text": [
      "Ep: 142, LR: 0.000547, Los: 0.2281607, Val MAE: 0.5497, Test MAE: 0.4407, Time: 3.72\n"
     ]
    },
    {
     "name": "stderr",
     "output_type": "stream",
     "text": [
      "15it [00:03,  4.45it/s]\n",
      "2it [00:00, 11.28it/s]\n",
      "2it [00:00, 13.08it/s]\n",
      "0it [00:00, ?it/s]"
     ]
    },
    {
     "name": "stdout",
     "output_type": "stream",
     "text": [
      "Ep: 143, LR: 0.000542, Los: 0.1785778, Val MAE: 0.5513, Test MAE: 0.4316, Time: 3.71\n"
     ]
    },
    {
     "name": "stderr",
     "output_type": "stream",
     "text": [
      "15it [00:03,  4.50it/s]\n",
      "2it [00:00, 12.93it/s]\n",
      "2it [00:00, 13.39it/s]\n",
      "0it [00:00, ?it/s]"
     ]
    },
    {
     "name": "stdout",
     "output_type": "stream",
     "text": [
      "Ep: 144, LR: 0.000537, Los: 0.1792964, Val MAE: 0.5240, Test MAE: 0.4146, Time: 3.65\n"
     ]
    },
    {
     "name": "stderr",
     "output_type": "stream",
     "text": [
      "15it [00:03,  4.64it/s]\n",
      "2it [00:00, 12.73it/s]\n",
      "2it [00:00, 13.27it/s]\n",
      "0it [00:00, ?it/s]"
     ]
    },
    {
     "name": "stdout",
     "output_type": "stream",
     "text": [
      "Ep: 145, LR: 0.000531, Los: 0.1642152, Val MAE: 0.5890, Test MAE: 0.4592, Time: 3.55\n"
     ]
    },
    {
     "name": "stderr",
     "output_type": "stream",
     "text": [
      "15it [00:03,  4.51it/s]\n",
      "2it [00:00, 12.43it/s]\n",
      "2it [00:00, 12.97it/s]\n",
      "0it [00:00, ?it/s]"
     ]
    },
    {
     "name": "stdout",
     "output_type": "stream",
     "text": [
      "Ep: 146, LR: 0.000526, Los: 0.1893442, Val MAE: 0.5813, Test MAE: 0.4521, Time: 3.65\n"
     ]
    },
    {
     "name": "stderr",
     "output_type": "stream",
     "text": [
      "15it [00:03,  4.53it/s]\n",
      "2it [00:00, 12.20it/s]\n",
      "2it [00:00, 13.00it/s]\n",
      "0it [00:00, ?it/s]"
     ]
    },
    {
     "name": "stdout",
     "output_type": "stream",
     "text": [
      "Ep: 147, LR: 0.000521, Los: 0.1699476, Val MAE: 0.5757, Test MAE: 0.4253, Time: 3.64\n"
     ]
    },
    {
     "name": "stderr",
     "output_type": "stream",
     "text": [
      "15it [00:03,  4.53it/s]\n",
      "2it [00:00, 12.47it/s]\n",
      "2it [00:00, 12.76it/s]\n",
      "0it [00:00, ?it/s]"
     ]
    },
    {
     "name": "stdout",
     "output_type": "stream",
     "text": [
      "Ep: 148, LR: 0.000516, Los: 0.1830619, Val MAE: 0.6029, Test MAE: 0.4936, Time: 3.64\n"
     ]
    },
    {
     "name": "stderr",
     "output_type": "stream",
     "text": [
      "15it [00:03,  4.59it/s]\n",
      "2it [00:00, 12.51it/s]\n",
      "2it [00:00, 13.69it/s]\n",
      "0it [00:00, ?it/s]"
     ]
    },
    {
     "name": "stdout",
     "output_type": "stream",
     "text": [
      "Ep: 149, LR: 0.000510, Los: 0.2302364, Val MAE: 0.5566, Test MAE: 0.4496, Time: 3.59\n"
     ]
    },
    {
     "name": "stderr",
     "output_type": "stream",
     "text": [
      "15it [00:03,  4.54it/s]\n",
      "2it [00:00, 12.59it/s]\n",
      "2it [00:00, 13.21it/s]\n",
      "0it [00:00, ?it/s]"
     ]
    },
    {
     "name": "stdout",
     "output_type": "stream",
     "text": [
      "Ep: 150, LR: 0.000505, Los: 0.1808334, Val MAE: 0.5438, Test MAE: 0.4519, Time: 3.63\n"
     ]
    },
    {
     "name": "stderr",
     "output_type": "stream",
     "text": [
      "15it [00:03,  4.53it/s]\n",
      "2it [00:00, 12.60it/s]\n",
      "2it [00:00, 12.75it/s]\n",
      "0it [00:00, ?it/s]"
     ]
    },
    {
     "name": "stdout",
     "output_type": "stream",
     "text": [
      "Ep: 151, LR: 0.000500, Los: 0.1959484, Val MAE: 0.5520, Test MAE: 0.4408, Time: 3.64\n"
     ]
    },
    {
     "name": "stderr",
     "output_type": "stream",
     "text": [
      "15it [00:03,  4.63it/s]\n",
      "2it [00:00, 12.65it/s]\n",
      "2it [00:00, 12.70it/s]\n",
      "0it [00:00, ?it/s]"
     ]
    },
    {
     "name": "stdout",
     "output_type": "stream",
     "text": [
      "Ep: 152, LR: 0.000495, Los: 0.1581421, Val MAE: 0.5328, Test MAE: 0.4262, Time: 3.57\n"
     ]
    },
    {
     "name": "stderr",
     "output_type": "stream",
     "text": [
      "15it [00:03,  4.58it/s]\n",
      "2it [00:00, 11.17it/s]\n",
      "2it [00:00, 12.20it/s]\n",
      "0it [00:00, ?it/s]"
     ]
    },
    {
     "name": "stdout",
     "output_type": "stream",
     "text": [
      "Ep: 153, LR: 0.000490, Los: 0.1648594, Val MAE: 0.5424, Test MAE: 0.4450, Time: 3.63\n"
     ]
    },
    {
     "name": "stderr",
     "output_type": "stream",
     "text": [
      "15it [00:03,  4.55it/s]\n",
      "2it [00:00, 12.59it/s]\n",
      "2it [00:00, 13.43it/s]\n",
      "0it [00:00, ?it/s]"
     ]
    },
    {
     "name": "stdout",
     "output_type": "stream",
     "text": [
      "Ep: 154, LR: 0.000484, Los: 0.1632622, Val MAE: 0.5584, Test MAE: 0.4405, Time: 3.62\n"
     ]
    },
    {
     "name": "stderr",
     "output_type": "stream",
     "text": [
      "15it [00:03,  4.41it/s]\n",
      "2it [00:00, 11.60it/s]\n",
      "2it [00:00, 12.40it/s]\n",
      "0it [00:00, ?it/s]"
     ]
    },
    {
     "name": "stdout",
     "output_type": "stream",
     "text": [
      "Ep: 155, LR: 0.000479, Los: 0.1743000, Val MAE: 0.5614, Test MAE: 0.4099, Time: 3.75\n"
     ]
    },
    {
     "name": "stderr",
     "output_type": "stream",
     "text": [
      "15it [00:03,  4.57it/s]\n",
      "2it [00:00, 12.98it/s]\n",
      "2it [00:00, 13.16it/s]\n",
      "0it [00:00, ?it/s]"
     ]
    },
    {
     "name": "stdout",
     "output_type": "stream",
     "text": [
      "Ep: 156, LR: 0.000474, Los: 0.1567616, Val MAE: 0.5583, Test MAE: 0.4292, Time: 3.60\n"
     ]
    },
    {
     "name": "stderr",
     "output_type": "stream",
     "text": [
      "15it [00:03,  4.51it/s]\n",
      "2it [00:00, 11.91it/s]\n",
      "2it [00:00, 13.16it/s]\n",
      "0it [00:00, ?it/s]"
     ]
    },
    {
     "name": "stdout",
     "output_type": "stream",
     "text": [
      "Ep: 157, LR: 0.000469, Los: 0.1455884, Val MAE: 0.5359, Test MAE: 0.4213, Time: 3.65\n"
     ]
    },
    {
     "name": "stderr",
     "output_type": "stream",
     "text": [
      "15it [00:03,  4.56it/s]\n",
      "2it [00:00, 13.11it/s]\n",
      "2it [00:00, 12.93it/s]\n",
      "0it [00:00, ?it/s]"
     ]
    },
    {
     "name": "stdout",
     "output_type": "stream",
     "text": [
      "Ep: 158, LR: 0.000463, Los: 0.1347557, Val MAE: 0.5411, Test MAE: 0.4335, Time: 3.61\n"
     ]
    },
    {
     "name": "stderr",
     "output_type": "stream",
     "text": [
      "15it [00:03,  4.55it/s]\n",
      "2it [00:00, 13.22it/s]\n",
      "2it [00:00, 13.19it/s]\n",
      "1it [00:00,  5.14it/s]"
     ]
    },
    {
     "name": "stdout",
     "output_type": "stream",
     "text": [
      "Ep: 159, LR: 0.000458, Los: 0.1573260, Val MAE: 0.5589, Test MAE: 0.4385, Time: 3.60\n"
     ]
    },
    {
     "name": "stderr",
     "output_type": "stream",
     "text": [
      "15it [00:03,  4.54it/s]\n",
      "2it [00:00, 12.27it/s]\n",
      "2it [00:00, 12.41it/s]\n",
      "0it [00:00, ?it/s]"
     ]
    },
    {
     "name": "stdout",
     "output_type": "stream",
     "text": [
      "Ep: 160, LR: 0.000453, Los: 0.1535276, Val MAE: 0.5433, Test MAE: 0.4380, Time: 3.64\n"
     ]
    },
    {
     "name": "stderr",
     "output_type": "stream",
     "text": [
      "15it [00:03,  4.52it/s]\n",
      "2it [00:00, 12.61it/s]\n",
      "2it [00:00, 13.50it/s]\n",
      "0it [00:00, ?it/s]"
     ]
    },
    {
     "name": "stdout",
     "output_type": "stream",
     "text": [
      "Ep: 161, LR: 0.000448, Los: 0.1626756, Val MAE: 0.5515, Test MAE: 0.4455, Time: 3.63\n"
     ]
    },
    {
     "name": "stderr",
     "output_type": "stream",
     "text": [
      "15it [00:03,  4.64it/s]\n",
      "2it [00:00, 12.90it/s]\n",
      "2it [00:00, 12.93it/s]\n",
      "0it [00:00, ?it/s]"
     ]
    },
    {
     "name": "stdout",
     "output_type": "stream",
     "text": [
      "Ep: 162, LR: 0.000443, Los: 0.1633267, Val MAE: 0.5365, Test MAE: 0.4231, Time: 3.55\n"
     ]
    },
    {
     "name": "stderr",
     "output_type": "stream",
     "text": [
      "15it [00:03,  4.60it/s]\n",
      "2it [00:00, 12.62it/s]\n",
      "2it [00:00, 12.87it/s]\n",
      "0it [00:00, ?it/s]"
     ]
    },
    {
     "name": "stdout",
     "output_type": "stream",
     "text": [
      "Ep: 163, LR: 0.000437, Los: 0.1510023, Val MAE: 0.5891, Test MAE: 0.4431, Time: 3.59\n"
     ]
    },
    {
     "name": "stderr",
     "output_type": "stream",
     "text": [
      "15it [00:03,  4.49it/s]\n",
      "2it [00:00, 12.41it/s]\n",
      "2it [00:00, 13.20it/s]\n",
      "0it [00:00, ?it/s]"
     ]
    },
    {
     "name": "stdout",
     "output_type": "stream",
     "text": [
      "Ep: 164, LR: 0.000432, Los: 0.1634577, Val MAE: 0.5669, Test MAE: 0.4353, Time: 3.66\n"
     ]
    },
    {
     "name": "stderr",
     "output_type": "stream",
     "text": [
      "15it [00:03,  4.49it/s]\n",
      "2it [00:00, 11.35it/s]\n",
      "2it [00:00, 11.73it/s]\n",
      "0it [00:00, ?it/s]"
     ]
    },
    {
     "name": "stdout",
     "output_type": "stream",
     "text": [
      "Ep: 165, LR: 0.000427, Los: 0.1671508, Val MAE: 0.5751, Test MAE: 0.4536, Time: 3.70\n"
     ]
    },
    {
     "name": "stderr",
     "output_type": "stream",
     "text": [
      "15it [00:03,  4.49it/s]\n",
      "2it [00:00, 12.63it/s]\n",
      "2it [00:00, 13.63it/s]\n",
      "0it [00:00, ?it/s]"
     ]
    },
    {
     "name": "stdout",
     "output_type": "stream",
     "text": [
      "Ep: 166, LR: 0.000422, Los: 0.1875712, Val MAE: 0.5834, Test MAE: 0.4266, Time: 3.66\n"
     ]
    },
    {
     "name": "stderr",
     "output_type": "stream",
     "text": [
      "15it [00:03,  4.54it/s]\n",
      "2it [00:00, 12.20it/s]\n",
      "2it [00:00, 12.71it/s]\n",
      "0it [00:00, ?it/s]"
     ]
    },
    {
     "name": "stdout",
     "output_type": "stream",
     "text": [
      "Ep: 167, LR: 0.000417, Los: 0.1869342, Val MAE: 0.5671, Test MAE: 0.4261, Time: 3.64\n"
     ]
    },
    {
     "name": "stderr",
     "output_type": "stream",
     "text": [
      "15it [00:03,  4.44it/s]\n",
      "2it [00:00, 12.98it/s]\n",
      "2it [00:00, 12.72it/s]\n",
      "0it [00:00, ?it/s]"
     ]
    },
    {
     "name": "stdout",
     "output_type": "stream",
     "text": [
      "Ep: 168, LR: 0.000411, Los: 0.1874713, Val MAE: 0.6005, Test MAE: 0.4724, Time: 3.70\n"
     ]
    },
    {
     "name": "stderr",
     "output_type": "stream",
     "text": [
      "15it [00:03,  4.43it/s]\n",
      "2it [00:00, 12.50it/s]\n",
      "2it [00:00, 13.28it/s]\n",
      "0it [00:00, ?it/s]"
     ]
    },
    {
     "name": "stdout",
     "output_type": "stream",
     "text": [
      "Ep: 169, LR: 0.000406, Los: 0.1585216, Val MAE: 0.5761, Test MAE: 0.4317, Time: 3.70\n"
     ]
    },
    {
     "name": "stderr",
     "output_type": "stream",
     "text": [
      "15it [00:03,  4.52it/s]\n",
      "2it [00:00, 12.15it/s]\n",
      "2it [00:00, 12.48it/s]\n",
      "0it [00:00, ?it/s]"
     ]
    },
    {
     "name": "stdout",
     "output_type": "stream",
     "text": [
      "Ep: 170, LR: 0.000401, Los: 0.1267060, Val MAE: 0.5778, Test MAE: 0.4549, Time: 3.65\n"
     ]
    },
    {
     "name": "stderr",
     "output_type": "stream",
     "text": [
      "15it [00:03,  4.50it/s]\n",
      "2it [00:00, 11.97it/s]\n",
      "2it [00:00, 13.38it/s]\n",
      "1it [00:00,  5.40it/s]"
     ]
    },
    {
     "name": "stdout",
     "output_type": "stream",
     "text": [
      "Ep: 171, LR: 0.000396, Los: 0.1399270, Val MAE: 0.5616, Test MAE: 0.4129, Time: 3.66\n"
     ]
    },
    {
     "name": "stderr",
     "output_type": "stream",
     "text": [
      "15it [00:03,  4.54it/s]\n",
      "2it [00:00, 12.25it/s]\n",
      "2it [00:00, 13.81it/s]\n",
      "0it [00:00, ?it/s]"
     ]
    },
    {
     "name": "stdout",
     "output_type": "stream",
     "text": [
      "Ep: 172, LR: 0.000391, Los: 0.1336916, Val MAE: 0.5804, Test MAE: 0.4319, Time: 3.62\n"
     ]
    },
    {
     "name": "stderr",
     "output_type": "stream",
     "text": [
      "15it [00:03,  4.54it/s]\n",
      "2it [00:00, 12.08it/s]\n",
      "2it [00:00, 11.90it/s]\n",
      "0it [00:00, ?it/s]"
     ]
    },
    {
     "name": "stdout",
     "output_type": "stream",
     "text": [
      "Ep: 173, LR: 0.000386, Los: 0.1417178, Val MAE: 0.5628, Test MAE: 0.4479, Time: 3.64\n"
     ]
    },
    {
     "name": "stderr",
     "output_type": "stream",
     "text": [
      "15it [00:03,  4.51it/s]\n",
      "2it [00:00, 12.44it/s]\n",
      "2it [00:00, 12.84it/s]\n",
      "0it [00:00, ?it/s]"
     ]
    },
    {
     "name": "stdout",
     "output_type": "stream",
     "text": [
      "Ep: 174, LR: 0.000381, Los: 0.1569345, Val MAE: 0.5702, Test MAE: 0.4161, Time: 3.65\n"
     ]
    },
    {
     "name": "stderr",
     "output_type": "stream",
     "text": [
      "15it [00:03,  4.47it/s]\n",
      "2it [00:00, 11.90it/s]\n",
      "2it [00:00, 12.64it/s]\n",
      "0it [00:00, ?it/s]"
     ]
    },
    {
     "name": "stdout",
     "output_type": "stream",
     "text": [
      "Ep: 175, LR: 0.000376, Los: 0.1560841, Val MAE: 0.5727, Test MAE: 0.4341, Time: 3.69\n"
     ]
    },
    {
     "name": "stderr",
     "output_type": "stream",
     "text": [
      "15it [00:03,  4.45it/s]\n",
      "2it [00:00, 12.11it/s]\n",
      "2it [00:00, 13.08it/s]\n",
      "0it [00:00, ?it/s]"
     ]
    },
    {
     "name": "stdout",
     "output_type": "stream",
     "text": [
      "Ep: 176, LR: 0.000371, Los: 0.1670358, Val MAE: 0.5747, Test MAE: 0.4334, Time: 3.69\n"
     ]
    },
    {
     "name": "stderr",
     "output_type": "stream",
     "text": [
      "15it [00:03,  4.50it/s]\n",
      "2it [00:00, 12.18it/s]\n",
      "2it [00:00, 13.43it/s]\n",
      "0it [00:00, ?it/s]"
     ]
    },
    {
     "name": "stdout",
     "output_type": "stream",
     "text": [
      "Ep: 177, LR: 0.000366, Los: 0.1436910, Val MAE: 0.5742, Test MAE: 0.4510, Time: 3.66\n"
     ]
    },
    {
     "name": "stderr",
     "output_type": "stream",
     "text": [
      "15it [00:03,  4.52it/s]\n",
      "2it [00:00, 12.40it/s]\n",
      "2it [00:00, 13.01it/s]\n",
      "0it [00:00, ?it/s]"
     ]
    },
    {
     "name": "stdout",
     "output_type": "stream",
     "text": [
      "Ep: 178, LR: 0.000361, Los: 0.1325877, Val MAE: 0.5693, Test MAE: 0.4206, Time: 3.65\n"
     ]
    },
    {
     "name": "stderr",
     "output_type": "stream",
     "text": [
      "15it [00:03,  4.62it/s]\n",
      "2it [00:00, 12.29it/s]\n",
      "2it [00:00, 12.95it/s]\n",
      "0it [00:00, ?it/s]"
     ]
    },
    {
     "name": "stdout",
     "output_type": "stream",
     "text": [
      "Ep: 179, LR: 0.000355, Los: 0.1399663, Val MAE: 0.5631, Test MAE: 0.4434, Time: 3.57\n"
     ]
    },
    {
     "name": "stderr",
     "output_type": "stream",
     "text": [
      "15it [00:03,  4.40it/s]\n",
      "2it [00:00, 12.52it/s]\n",
      "2it [00:00, 12.33it/s]\n",
      "0it [00:00, ?it/s]"
     ]
    },
    {
     "name": "stdout",
     "output_type": "stream",
     "text": [
      "Ep: 180, LR: 0.000350, Los: 0.1296432, Val MAE: 0.5706, Test MAE: 0.4289, Time: 3.74\n"
     ]
    },
    {
     "name": "stderr",
     "output_type": "stream",
     "text": [
      "15it [00:03,  4.52it/s]\n",
      "2it [00:00, 12.49it/s]\n",
      "2it [00:00, 13.09it/s]\n",
      "0it [00:00, ?it/s]"
     ]
    },
    {
     "name": "stdout",
     "output_type": "stream",
     "text": [
      "Ep: 181, LR: 0.000345, Los: 0.1345555, Val MAE: 0.5606, Test MAE: 0.4261, Time: 3.64\n"
     ]
    },
    {
     "name": "stderr",
     "output_type": "stream",
     "text": [
      "15it [00:03,  4.49it/s]\n",
      "2it [00:00, 12.04it/s]\n",
      "2it [00:00, 13.18it/s]\n",
      "0it [00:00, ?it/s]"
     ]
    },
    {
     "name": "stdout",
     "output_type": "stream",
     "text": [
      "Ep: 182, LR: 0.000341, Los: 0.1159804, Val MAE: 0.5637, Test MAE: 0.4379, Time: 3.67\n"
     ]
    },
    {
     "name": "stderr",
     "output_type": "stream",
     "text": [
      "15it [00:03,  4.51it/s]\n",
      "2it [00:00, 12.58it/s]\n",
      "2it [00:00, 13.01it/s]\n",
      "0it [00:00, ?it/s]"
     ]
    },
    {
     "name": "stdout",
     "output_type": "stream",
     "text": [
      "Ep: 183, LR: 0.000336, Los: 0.1208617, Val MAE: 0.5396, Test MAE: 0.4119, Time: 3.65\n"
     ]
    },
    {
     "name": "stderr",
     "output_type": "stream",
     "text": [
      "15it [00:03,  4.52it/s]\n",
      "2it [00:00, 12.16it/s]\n",
      "2it [00:00, 13.22it/s]\n",
      "0it [00:00, ?it/s]"
     ]
    },
    {
     "name": "stdout",
     "output_type": "stream",
     "text": [
      "Ep: 184, LR: 0.000331, Los: 0.1163835, Val MAE: 0.5555, Test MAE: 0.4346, Time: 3.64\n"
     ]
    },
    {
     "name": "stderr",
     "output_type": "stream",
     "text": [
      "15it [00:03,  4.61it/s]\n",
      "2it [00:00, 12.61it/s]\n",
      "2it [00:00, 13.56it/s]\n",
      "0it [00:00, ?it/s]"
     ]
    },
    {
     "name": "stdout",
     "output_type": "stream",
     "text": [
      "Ep: 185, LR: 0.000326, Los: 0.1069434, Val MAE: 0.5492, Test MAE: 0.4133, Time: 3.57\n"
     ]
    },
    {
     "name": "stderr",
     "output_type": "stream",
     "text": [
      "15it [00:03,  4.58it/s]\n",
      "2it [00:00, 12.00it/s]\n",
      "2it [00:00, 12.89it/s]\n",
      "0it [00:00, ?it/s]"
     ]
    },
    {
     "name": "stdout",
     "output_type": "stream",
     "text": [
      "Ep: 186, LR: 0.000321, Los: 0.1179189, Val MAE: 0.5696, Test MAE: 0.4239, Time: 3.61\n"
     ]
    },
    {
     "name": "stderr",
     "output_type": "stream",
     "text": [
      "15it [00:03,  4.49it/s]\n",
      "2it [00:00, 12.36it/s]\n",
      "2it [00:00, 13.07it/s]\n",
      "0it [00:00, ?it/s]"
     ]
    },
    {
     "name": "stdout",
     "output_type": "stream",
     "text": [
      "Ep: 187, LR: 0.000316, Los: 0.1138427, Val MAE: 0.5522, Test MAE: 0.4291, Time: 3.67\n"
     ]
    },
    {
     "name": "stderr",
     "output_type": "stream",
     "text": [
      "15it [00:03,  4.56it/s]\n",
      "2it [00:00, 12.69it/s]\n",
      "2it [00:00, 13.02it/s]\n",
      "0it [00:00, ?it/s]"
     ]
    },
    {
     "name": "stdout",
     "output_type": "stream",
     "text": [
      "Ep: 188, LR: 0.000311, Los: 0.1039983, Val MAE: 0.5669, Test MAE: 0.4222, Time: 3.61\n"
     ]
    },
    {
     "name": "stderr",
     "output_type": "stream",
     "text": [
      "15it [00:03,  4.50it/s]\n",
      "2it [00:00, 12.03it/s]\n",
      "2it [00:00, 12.46it/s]\n",
      "0it [00:00, ?it/s]"
     ]
    },
    {
     "name": "stdout",
     "output_type": "stream",
     "text": [
      "Ep: 189, LR: 0.000306, Los: 0.1159475, Val MAE: 0.5552, Test MAE: 0.4282, Time: 3.67\n"
     ]
    },
    {
     "name": "stderr",
     "output_type": "stream",
     "text": [
      "15it [00:03,  4.47it/s]\n",
      "2it [00:00, 12.48it/s]\n",
      "2it [00:00, 13.33it/s]\n",
      "0it [00:00, ?it/s]"
     ]
    },
    {
     "name": "stdout",
     "output_type": "stream",
     "text": [
      "Ep: 190, LR: 0.000301, Los: 0.1113321, Val MAE: 0.5613, Test MAE: 0.4315, Time: 3.68\n"
     ]
    },
    {
     "name": "stderr",
     "output_type": "stream",
     "text": [
      "15it [00:03,  4.52it/s]\n",
      "2it [00:00, 12.59it/s]\n",
      "2it [00:00, 12.45it/s]\n",
      "0it [00:00, ?it/s]"
     ]
    },
    {
     "name": "stdout",
     "output_type": "stream",
     "text": [
      "Ep: 191, LR: 0.000297, Los: 0.0966118, Val MAE: 0.5537, Test MAE: 0.4192, Time: 3.64\n"
     ]
    },
    {
     "name": "stderr",
     "output_type": "stream",
     "text": [
      "15it [00:03,  4.45it/s]\n",
      "2it [00:00, 11.86it/s]\n",
      "2it [00:00, 13.05it/s]\n",
      "1it [00:00,  5.14it/s]"
     ]
    },
    {
     "name": "stdout",
     "output_type": "stream",
     "text": [
      "Ep: 192, LR: 0.000292, Los: 0.1101479, Val MAE: 0.5834, Test MAE: 0.4461, Time: 3.70\n"
     ]
    },
    {
     "name": "stderr",
     "output_type": "stream",
     "text": [
      "15it [00:03,  4.54it/s]\n",
      "2it [00:00, 12.75it/s]\n",
      "2it [00:00, 13.57it/s]\n",
      "0it [00:00, ?it/s]"
     ]
    },
    {
     "name": "stdout",
     "output_type": "stream",
     "text": [
      "Ep: 193, LR: 0.000287, Los: 0.1083156, Val MAE: 0.5631, Test MAE: 0.4275, Time: 3.62\n"
     ]
    },
    {
     "name": "stderr",
     "output_type": "stream",
     "text": [
      "15it [00:03,  4.61it/s]\n",
      "2it [00:00, 11.29it/s]\n",
      "2it [00:00, 13.56it/s]\n",
      "0it [00:00, ?it/s]"
     ]
    },
    {
     "name": "stdout",
     "output_type": "stream",
     "text": [
      "Ep: 194, LR: 0.000282, Los: 0.0991230, Val MAE: 0.5646, Test MAE: 0.4236, Time: 3.59\n"
     ]
    },
    {
     "name": "stderr",
     "output_type": "stream",
     "text": [
      "15it [00:03,  4.50it/s]\n",
      "2it [00:00, 12.65it/s]\n",
      "2it [00:00, 12.82it/s]\n",
      "0it [00:00, ?it/s]"
     ]
    },
    {
     "name": "stdout",
     "output_type": "stream",
     "text": [
      "Ep: 195, LR: 0.000278, Los: 0.0956832, Val MAE: 0.5615, Test MAE: 0.4172, Time: 3.65\n"
     ]
    },
    {
     "name": "stderr",
     "output_type": "stream",
     "text": [
      "15it [00:03,  4.47it/s]\n",
      "2it [00:00, 11.87it/s]\n",
      "2it [00:00, 13.47it/s]\n",
      "0it [00:00, ?it/s]"
     ]
    },
    {
     "name": "stdout",
     "output_type": "stream",
     "text": [
      "Ep: 196, LR: 0.000273, Los: 0.1005503, Val MAE: 0.5601, Test MAE: 0.4232, Time: 3.68\n"
     ]
    },
    {
     "name": "stderr",
     "output_type": "stream",
     "text": [
      "15it [00:03,  4.50it/s]\n",
      "2it [00:00, 12.63it/s]\n",
      "2it [00:00, 12.97it/s]\n",
      "0it [00:00, ?it/s]"
     ]
    },
    {
     "name": "stdout",
     "output_type": "stream",
     "text": [
      "Ep: 197, LR: 0.000268, Los: 0.0908926, Val MAE: 0.5690, Test MAE: 0.4320, Time: 3.65\n"
     ]
    },
    {
     "name": "stderr",
     "output_type": "stream",
     "text": [
      "15it [00:03,  4.63it/s]\n",
      "2it [00:00, 12.56it/s]\n",
      "2it [00:00, 13.67it/s]\n",
      "0it [00:00, ?it/s]"
     ]
    },
    {
     "name": "stdout",
     "output_type": "stream",
     "text": [
      "Ep: 198, LR: 0.000264, Los: 0.0958288, Val MAE: 0.5707, Test MAE: 0.4203, Time: 3.55\n"
     ]
    },
    {
     "name": "stderr",
     "output_type": "stream",
     "text": [
      "15it [00:03,  4.78it/s]\n",
      "2it [00:00, 12.02it/s]\n",
      "2it [00:00, 13.11it/s]\n",
      "0it [00:00, ?it/s]"
     ]
    },
    {
     "name": "stdout",
     "output_type": "stream",
     "text": [
      "Ep: 199, LR: 0.000259, Los: 0.0977847, Val MAE: 0.5474, Test MAE: 0.4152, Time: 3.47\n"
     ]
    },
    {
     "name": "stderr",
     "output_type": "stream",
     "text": [
      "15it [00:03,  4.56it/s]\n",
      "2it [00:00, 13.37it/s]\n",
      "2it [00:00, 13.45it/s]"
     ]
    },
    {
     "name": "stdout",
     "output_type": "stream",
     "text": [
      "Ep: 200, LR: 0.000255, Los: 0.0859672, Val MAE: 0.5548, Test MAE: 0.4208, Time: 3.60\n"
     ]
    },
    {
     "name": "stderr",
     "output_type": "stream",
     "text": [
      "\n"
     ]
    }
   ],
   "source": [
    "best_val_error = None\n",
    "for epoch in range(1, 201): # 201\n",
    "    tic = time.time()\n",
    "    lr = scheduler.optimizer.param_groups[0]['lr']\n",
    "    loss = train(train_loader)\n",
    "    val_error= test(val_loader)\n",
    "    test_error = test(test_loader)\n",
    "    scheduler.step()\n",
    "\n",
    "    if best_val_error is None or val_error <= best_val_error:\n",
    "        best_val_error = val_error\n",
    "    display_time = np.round(time.time()-tic, decimals=2)\n",
    "    print('Ep: {:03d}, LR: {:4f}, Los: {:.7f}, Val MAE: {:.4f}, '\n",
    "          'Test MAE: {:.4f}, Time: {:.2f}'.format(epoch, lr, loss, val_error, test_error, display_time))"
   ]
  },
  {
   "cell_type": "code",
   "execution_count": 12,
   "metadata": {},
   "outputs": [
    {
     "name": "stderr",
     "output_type": "stream",
     "text": [
      "100%|██████████| 2/2 [00:00<00:00, 12.86it/s]\n"
     ]
    }
   ],
   "source": [
    "yp, yt = apply(test_loader)\n",
    "yp, yt = yt.ravel(), yp.ravel()"
   ]
  },
  {
   "cell_type": "code",
   "execution_count": 13,
   "metadata": {},
   "outputs": [
    {
     "name": "stdout",
     "output_type": "stream",
     "text": [
      "0.9279238160041559 0.5795739577678096 0.4207655161818756\n"
     ]
    }
   ],
   "source": [
    "r2T = r2_score(yt, yp)\n",
    "rmseT = np.sqrt(mean_squared_error(yt, yp))\n",
    "mae = mean_absolute_error(yt,yp)\n",
    "print(r2T, rmseT, mae)"
   ]
  },
  {
   "cell_type": "code",
   "execution_count": 14,
   "metadata": {},
   "outputs": [
    {
     "data": {
      "image/png": "[encoded data removed]",
      "text/plain": [
       "<Figure size 432x288 with 1 Axes>"
      ]
     },
     "metadata": {
      "needs_background": "light"
     },
     "output_type": "display_data"
    }
   ],
   "source": [
    "import matplotlib.pyplot as plt\n",
    "fig, ax = plt.subplots()\n",
    "ax.scatter(yt, yp)\n",
    "plt.show()"
   ]
  },
  {
   "cell_type": "code",
   "execution_count": null,
   "metadata": {},
   "outputs": [],
   "source": []
  },
  {
   "cell_type": "code",
   "execution_count": null,
   "metadata": {},
   "outputs": [],
   "source": []
  },
  {
   "cell_type": "code",
   "execution_count": null,
   "metadata": {},
   "outputs": [],
   "source": []
  }
 ],
 "metadata": {
  "kernelspec": {
   "display_name": "Python 3",
   "language": "python",
   "name": "python3"
  },
  "language_info": {
   "codemirror_mode": {
    "name": "ipython",
    "version": 3
   },
   "file_extension": ".py",
   "mimetype": "text/x-python",
   "name": "python",
   "nbconvert_exporter": "python",
   "pygments_lexer": "ipython3",
   "version": "3.7.10"
  }
 },
 "nbformat": 4,
 "nbformat_minor": 4
}
